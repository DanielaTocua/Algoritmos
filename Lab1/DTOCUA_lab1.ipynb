{
  "nbformat": 4,
  "nbformat_minor": 0,
  "metadata": {
    "colab": {
      "name": "DTOCUA_lab1.ipynb",
      "provenance": [],
      "collapsed_sections": []
    },
    "kernelspec": {
      "display_name": "Python 3",
      "language": "python",
      "name": "python3"
    },
    "language_info": {
      "codemirror_mode": {
        "name": "ipython",
        "version": 3
      },
      "file_extension": ".py",
      "mimetype": "text/x-python",
      "name": "python",
      "nbconvert_exporter": "python",
      "pygments_lexer": "ipython3",
      "version": "3.6.4"
    }
  },
  "cells": [
    {
      "cell_type": "markdown",
      "source": [
        ""
      ],
      "metadata": {
        "id": "0aRGfD7vZK_Y"
      }
    },
    {
      "cell_type": "markdown",
      "metadata": {
        "id": "eQzBbvyKQymx"
      },
      "source": [
        "<div align=\"center\">\n",
        "<img style=\"display: block; margin: auto;\" alt=\"photo\" src=\"https://cdn.quantconnect.com/web/i/icon.png\">\n",
        "\n",
        "Quantconnect\n",
        "\n",
        "Introduction to Financial Python\n",
        "</div>\n",
        "\n",
        "# 01 Data Types and Data Structures\n",
        "\n",
        "# Introduction\n",
        "\n",
        "This tutorial provides a basic introduction to the Python programming language. If you are new to Python, you should run the code snippets while reading this tutorial. If you are an advanced Python user, please feel free to skip this chapter.\n",
        "\n",
        "# Basic Variable Types\n",
        "The basic types of variables in Python are: strings, integers, floating point numbers and booleans.\n",
        "\n",
        "Strings in python are identified as a contiguous set of characters represented in either single quotes (' ') or double quotes (\" \").\n"
      ]
    },
    {
      "cell_type": "code",
      "metadata": {
        "colab": {
          "base_uri": "https://localhost:8080/"
        },
        "id": "N5t-UrcfOqid",
        "outputId": "b4ef3ea2-8b8d-4cf9-c2cf-0fccf28c8625"
      },
      "source": [
        "my_string1 = 'Welcome to'\n",
        "my_string2 = \"QuantConnect\"\n",
        "print(my_string1 + ' ' + my_string2)"
      ],
      "execution_count": 1,
      "outputs": [
        {
          "output_type": "stream",
          "name": "stdout",
          "text": [
            "Welcome to QuantConnect\n"
          ]
        }
      ]
    },
    {
      "cell_type": "markdown",
      "metadata": {
        "id": "bXHnxZyHSd1M"
      },
      "source": [
        "An integer is a round number with no values after the decimal point."
      ]
    },
    {
      "cell_type": "code",
      "metadata": {
        "colab": {
          "base_uri": "https://localhost:8080/"
        },
        "id": "pNjuz3toOqif",
        "outputId": "4a6be352-01f1-4eef-d0ed-0dd8bcedb8c7"
      },
      "source": [
        "my_int = 10\n",
        "print(my_int)\n",
        "print(type(my_int))"
      ],
      "execution_count": 2,
      "outputs": [
        {
          "output_type": "stream",
          "name": "stdout",
          "text": [
            "10\n",
            "<class 'int'>\n"
          ]
        }
      ]
    },
    {
      "cell_type": "markdown",
      "metadata": {
        "id": "_1ZanWrYSnzF"
      },
      "source": [
        "The built-in function int() can convert a string into an integer."
      ]
    },
    {
      "cell_type": "code",
      "metadata": {
        "colab": {
          "base_uri": "https://localhost:8080/"
        },
        "id": "zPwGb20FOqif",
        "outputId": "ed094fd8-f0ff-4ae8-cd01-4e0561f2ec56"
      },
      "source": [
        "my_string = \"100\"\n",
        "print(type(my_string))\n",
        "my_int = int(my_string)\n",
        "print(type(my_int))"
      ],
      "execution_count": 3,
      "outputs": [
        {
          "output_type": "stream",
          "name": "stdout",
          "text": [
            "<class 'str'>\n",
            "<class 'int'>\n"
          ]
        }
      ]
    },
    {
      "cell_type": "markdown",
      "metadata": {
        "id": "WqMDPDTHSrE9"
      },
      "source": [
        "A floating point number, or a float, is a real number in mathematics. In Python we need to include a value after a decimal point to define it as a float"
      ]
    },
    {
      "cell_type": "code",
      "metadata": {
        "colab": {
          "base_uri": "https://localhost:8080/"
        },
        "id": "otCzKKW9Oqig",
        "outputId": "71a35109-b896-453f-f44e-f32d0f820bad"
      },
      "source": [
        "my_string = \"100\"\n",
        "my_float = float(my_string)\n",
        "print(type(my_float))\n",
        "flo=3.54\n",
        "print(type(flo))"
      ],
      "execution_count": 4,
      "outputs": [
        {
          "output_type": "stream",
          "name": "stdout",
          "text": [
            "<class 'float'>\n",
            "<class 'float'>\n"
          ]
        }
      ]
    },
    {
      "cell_type": "markdown",
      "metadata": {
        "id": "2iuyv8Q7StTJ"
      },
      "source": [
        "As you can see above, if we don't include a decimal value, the variable would be defined as an integer. The built-in function float() can convert a string or an integer into a float."
      ]
    },
    {
      "cell_type": "code",
      "metadata": {
        "colab": {
          "base_uri": "https://localhost:8080/"
        },
        "id": "wwLw5VthOqig",
        "outputId": "f5937b8a-1bb0-4e1a-d71d-47c04ed43d22"
      },
      "source": [
        "my_bool = False\n",
        "print(my_bool)\n",
        "print(type(my_bool))"
      ],
      "execution_count": 5,
      "outputs": [
        {
          "output_type": "stream",
          "name": "stdout",
          "text": [
            "False\n",
            "<class 'bool'>\n"
          ]
        }
      ]
    },
    {
      "cell_type": "markdown",
      "metadata": {
        "id": "bnGMwH21Szr_"
      },
      "source": [
        "A boolean, or bool, is a binary variable. Its value can only be True or False. It is useful when we do some logic operations, which would be covered in our next chapter."
      ]
    },
    {
      "cell_type": "code",
      "metadata": {
        "colab": {
          "base_uri": "https://localhost:8080/"
        },
        "id": "DMa6pDl5Oqig",
        "outputId": "9039b7fd-8a2c-4409-c5b7-b1dcce5041b0"
      },
      "source": [
        "print(\"Addition \", 1+1)\n",
        "print(\"Subtraction \", 5-2)\n",
        "print(\"Multiplication \", 2*3)\n",
        "print(\"Division \", 10/2)\n",
        "print('exponent', 2**3)"
      ],
      "execution_count": 6,
      "outputs": [
        {
          "output_type": "stream",
          "name": "stdout",
          "text": [
            "Addition  2\n",
            "Subtraction  3\n",
            "Multiplication  6\n",
            "Division  5.0\n",
            "exponent 8\n"
          ]
        }
      ]
    },
    {
      "cell_type": "markdown",
      "metadata": {
        "id": "1Xc9G9_sS2ju"
      },
      "source": [
        "# Basic Math Operations\n",
        "\n",
        "The basic math operators in python are demonstrated below:"
      ]
    },
    {
      "cell_type": "code",
      "metadata": {
        "colab": {
          "base_uri": "https://localhost:8080/"
        },
        "id": "KE9gUryAOqig",
        "outputId": "997b0333-574a-49ca-df0a-46ceb12d2db6"
      },
      "source": [
        "print(1/3)\n",
        "print(1.0/3)"
      ],
      "execution_count": 7,
      "outputs": [
        {
          "output_type": "stream",
          "name": "stdout",
          "text": [
            "0.3333333333333333\n",
            "0.3333333333333333\n"
          ]
        }
      ]
    },
    {
      "cell_type": "markdown",
      "metadata": {
        "id": "AN5Oa3DoS_Nf"
      },
      "source": [
        "# Data Collections\n",
        "\n",
        "## List\n",
        "A list is an ordered collection of values. A list is mutable, which means you can change a list's value without changing the list itself. Creating a list is simply putting different comma-separated values between square brackets."
      ]
    },
    {
      "cell_type": "code",
      "metadata": {
        "colab": {
          "base_uri": "https://localhost:8080/"
        },
        "id": "-tQdNqCvOqig",
        "outputId": "fd5bb5d8-017c-4783-e18f-38aec1ef16b6"
      },
      "source": [
        "my_list = ['Quant', 'Connect']#, 1,2,3]\n",
        "print(my_list)"
      ],
      "execution_count": 8,
      "outputs": [
        {
          "output_type": "stream",
          "name": "stdout",
          "text": [
            "['Quant', 'Connect']\n"
          ]
        }
      ]
    },
    {
      "cell_type": "markdown",
      "metadata": {
        "id": "1O0TsgZCTHrM"
      },
      "source": [
        "The values in a list are called \"elements\". We can access list elements by indexing. Python index starts from 0. So if you have a list of length n, the index of the first element will be 0, and that of the last element will be n − 1. By the way, the length of a list can be obtained by the built-in function len()."
      ]
    },
    {
      "cell_type": "code",
      "metadata": {
        "colab": {
          "base_uri": "https://localhost:8080/"
        },
        "id": "QhuVhRR5Oqih",
        "outputId": "2ceaeb5b-3aec-4144-8c5e-c31dd4a68d64"
      },
      "source": [
        "my_list = ['Quant', 'Connect', 1,2,3]\n",
        "print(len(my_list))\n",
        "print(my_list[0])\n",
        "print(my_list[len(my_list) -1])"
      ],
      "execution_count": 9,
      "outputs": [
        {
          "output_type": "stream",
          "name": "stdout",
          "text": [
            "5\n",
            "Quant\n",
            "3\n"
          ]
        }
      ]
    },
    {
      "cell_type": "markdown",
      "metadata": {
        "id": "jgSZy1VGTKSc"
      },
      "source": [
        "You can also change the elements in the list by accessing an index and assigning a new value."
      ]
    },
    {
      "cell_type": "code",
      "metadata": {
        "colab": {
          "base_uri": "https://localhost:8080/"
        },
        "id": "NQBNLjAvOqih",
        "outputId": "675a5fd4-9ce7-468d-d72b-eb3f249b37bd"
      },
      "source": [
        "my_list = ['Quant','Connect',1,2,3]\n",
        "my_list[2] = 'go'\n",
        "print(my_list)"
      ],
      "execution_count": 10,
      "outputs": [
        {
          "output_type": "stream",
          "name": "stdout",
          "text": [
            "['Quant', 'Connect', 'go', 2, 3]\n"
          ]
        }
      ]
    },
    {
      "cell_type": "markdown",
      "metadata": {
        "id": "EQPs5ojoTVrk"
      },
      "source": [
        "A list can also be sliced with a colon:"
      ]
    },
    {
      "cell_type": "code",
      "metadata": {
        "colab": {
          "base_uri": "https://localhost:8080/"
        },
        "id": "keNX2RbtOqii",
        "outputId": "5292c393-b1fc-4408-c38e-a516ae971ec5"
      },
      "source": [
        "my_list = ['Quant','Connect',1,2,3]\n",
        "print(my_list[1:3])"
      ],
      "execution_count": 11,
      "outputs": [
        {
          "output_type": "stream",
          "name": "stdout",
          "text": [
            "['Connect', 1]\n"
          ]
        }
      ]
    },
    {
      "cell_type": "markdown",
      "metadata": {
        "id": "AZqQd0K8TYul"
      },
      "source": [
        "The slice starts from the first element indicated, but excludes the last element indicated. Here we select all elements starting from index 1, which refers to the second element:"
      ]
    },
    {
      "cell_type": "code",
      "metadata": {
        "colab": {
          "base_uri": "https://localhost:8080/"
        },
        "id": "0-76sLfkOqii",
        "outputId": "2b31333a-5cfe-435e-b5b6-3e27a8f08ba0"
      },
      "source": [
        "print(my_list[1:])"
      ],
      "execution_count": 12,
      "outputs": [
        {
          "output_type": "stream",
          "name": "stdout",
          "text": [
            "['Connect', 1, 2, 3]\n"
          ]
        }
      ]
    },
    {
      "cell_type": "markdown",
      "metadata": {
        "id": "XBqvhUdZVKWs"
      },
      "source": [
        "And all elements up to but excluding index 3:"
      ]
    },
    {
      "cell_type": "code",
      "metadata": {
        "colab": {
          "base_uri": "https://localhost:8080/"
        },
        "id": "5NWr75L9Oqii",
        "outputId": "641f4b7d-d491-4f65-80cc-c1efff1d0578"
      },
      "source": [
        "print(my_list[:3])"
      ],
      "execution_count": 13,
      "outputs": [
        {
          "output_type": "stream",
          "name": "stdout",
          "text": [
            "['Quant', 'Connect', 1]\n"
          ]
        }
      ]
    },
    {
      "cell_type": "markdown",
      "metadata": {
        "id": "eAFmM6bkTZz9"
      },
      "source": [
        "If you wish to add or remove an element from a list, you can use the append() and remove() methods for lists as follows:"
      ]
    },
    {
      "cell_type": "code",
      "metadata": {
        "colab": {
          "base_uri": "https://localhost:8080/"
        },
        "id": "pHmgTPElTo19",
        "outputId": "5a74b496-1431-45ea-b999-ac6305995857"
      },
      "source": [
        "my_list = ['Hello', 'Quant']\n",
        "my_list.append('Hello')\n",
        "print(my_list)\n",
        "\n"
      ],
      "execution_count": 14,
      "outputs": [
        {
          "output_type": "stream",
          "name": "stdout",
          "text": [
            "['Hello', 'Quant', 'Hello']\n"
          ]
        }
      ]
    },
    {
      "cell_type": "code",
      "metadata": {
        "colab": {
          "base_uri": "https://localhost:8080/"
        },
        "id": "4C4U1Yf0Tr8l",
        "outputId": "b5e2cccd-4003-43ed-bda0-904ffacfe05b"
      },
      "source": [
        "my_list.remove('Hello')\n",
        "print(my_list)"
      ],
      "execution_count": 15,
      "outputs": [
        {
          "output_type": "stream",
          "name": "stdout",
          "text": [
            "['Quant', 'Hello']\n"
          ]
        }
      ]
    },
    {
      "cell_type": "markdown",
      "metadata": {
        "id": "11W1gG-cVmOU"
      },
      "source": [
        "When there are repeated instances of \"Hello\", the first one is removed.\n",
        "\n",
        "## Tuple\n",
        "A tuple is a data structure type similar to a list. The difference is that a tuple is immutable, which means you can't change the elements in it once it's defined. We create a tuple by putting comma-separated values between parentheses."
      ]
    },
    {
      "cell_type": "code",
      "metadata": {
        "collapsed": true,
        "id": "vPmn6BAaOqii"
      },
      "source": [
        "# A tuple is created, its values are immutable.\n",
        "my_tuple = ('Bienvenido','a','mi','primer','laboratorio','de','algoritmos')"
      ],
      "execution_count": 16,
      "outputs": []
    },
    {
      "cell_type": "markdown",
      "metadata": {
        "id": "zMIme4dDV0Wz"
      },
      "source": [
        "Just like a list, a tuple can be sliced by using index."
      ]
    },
    {
      "cell_type": "code",
      "metadata": {
        "colab": {
          "base_uri": "https://localhost:8080/"
        },
        "id": "8P-ddO0sOqii",
        "outputId": "98bae399-c16c-485c-8161-ffb9e2e3e08b"
      },
      "source": [
        "my_tuple = ('Bienvenido','a','mi','primer','laboratorio','de','algoritmos')\n",
        "#The tuple is sliced in the same way as a list.\n",
        "print(my_tuple[1:])"
      ],
      "execution_count": 17,
      "outputs": [
        {
          "output_type": "stream",
          "name": "stdout",
          "text": [
            "('a', 'mi', 'primer', 'laboratorio', 'de', 'algoritmos')\n"
          ]
        }
      ]
    },
    {
      "cell_type": "markdown",
      "metadata": {
        "id": "l2JqbusAV1Y2"
      },
      "source": [
        "## Set\n",
        "A set is an **unordered**  collection with **no duplicate** elements. The built-in function **set()** can be used to create sets."
      ]
    },
    {
      "cell_type": "code",
      "metadata": {
        "colab": {
          "base_uri": "https://localhost:8080/"
        },
        "id": "Plau8r-UOqij",
        "outputId": "b6ac3cce-bc55-41bd-b9e6-e408bb2791bf"
      },
      "source": [
        "stock_list = ['A','A','A','B','B','C','C','CC']\n",
        "# A set is created using the set() function.\n",
        "stock_set = set(stock_list)\n",
        "# Prints the set, which contains the values of stock_list which don't repeat themselves.\n",
        "print(stock_set)"
      ],
      "execution_count": 18,
      "outputs": [
        {
          "output_type": "stream",
          "name": "stdout",
          "text": [
            "{'A', 'CC', 'B', 'C'}\n"
          ]
        }
      ]
    },
    {
      "cell_type": "markdown",
      "metadata": {
        "id": "Jyb4GGIoWIHk"
      },
      "source": [
        "Set is an easy way to remove duplicate elements from a list.\n",
        "\n",
        "##Dictionary\n",
        "A dictionary is one of the most important data structures in Python. Unlike sequences which are indexed by integers, dictionaries are indexed by keys which can be either strings or floats.\n",
        "\n",
        "A dictionary is an **unordered** collection of key : value pairs, with the requirement that the keys are unique. We create a dictionary by placing a comma-separated list of key : value pairs within the braces."
      ]
    },
    {
      "cell_type": "code",
      "metadata": {
        "collapsed": true,
        "id": "36mTe5BaOqij"
      },
      "source": [
        "my_dic = {'clave1':'valor1', 'clave2':'valor2', 'clave3':'valor3'}"
      ],
      "execution_count": 19,
      "outputs": []
    },
    {
      "cell_type": "code",
      "metadata": {
        "colab": {
          "base_uri": "https://localhost:8080/"
        },
        "id": "KUfdVf43Oqij",
        "outputId": "b82bc4d6-3b08-4f32-a3bb-b7a71d0e8c03"
      },
      "source": [
        "# We obtain a value from the previously assigned key\n",
        "print(my_dic['clave1'])"
      ],
      "execution_count": 20,
      "outputs": [
        {
          "output_type": "stream",
          "name": "stdout",
          "text": [
            "valor1\n"
          ]
        }
      ]
    },
    {
      "cell_type": "markdown",
      "metadata": {
        "id": "gSicoNqDWP4c"
      },
      "source": [
        "After defining a dictionary, we can access any value by indicating its key in brackets."
      ]
    },
    {
      "cell_type": "code",
      "metadata": {
        "colab": {
          "base_uri": "https://localhost:8080/"
        },
        "id": "IrTZdq9FOqij",
        "outputId": "fc1b5174-bd97-4018-ad24-dd5495ce49fc"
      },
      "source": [
        "'''\n",
        "We access the values of the dictionary indicating the assigned key,\n",
        "We can change these values, unlike tuples.\n",
        "'''\n",
        "my_dic['clave1'] = 'valor34'\n",
        "print(my_dic['clave1'])"
      ],
      "execution_count": 21,
      "outputs": [
        {
          "output_type": "stream",
          "name": "stdout",
          "text": [
            "valor34\n"
          ]
        }
      ]
    },
    {
      "cell_type": "markdown",
      "metadata": {
        "id": "M9sDsTEMWQvc"
      },
      "source": [
        "We can also change the value associated with a specified key:"
      ]
    },
    {
      "cell_type": "code",
      "metadata": {
        "colab": {
          "base_uri": "https://localhost:8080/"
        },
        "id": "lupRHf1_Oqij",
        "outputId": "bccb9dd2-12da-443e-d7de-12b5602aae4c"
      },
      "source": [
        "#We can obtain the dictionary keys with the .keys() method.\n",
        "print(my_dic.keys())"
      ],
      "execution_count": 22,
      "outputs": [
        {
          "output_type": "stream",
          "name": "stdout",
          "text": [
            "dict_keys(['clave1', 'clave2', 'clave3'])\n"
          ]
        }
      ]
    },
    {
      "cell_type": "markdown",
      "metadata": {
        "id": "VPuDinlwWS9D"
      },
      "source": [
        "The built-in method of the dictionary object dict.keys() returns a list of all the keys used in the dictionary."
      ]
    },
    {
      "cell_type": "markdown",
      "metadata": {
        "id": "kSGzgNb2Womz"
      },
      "source": [
        "# Common String Operations\n",
        "A string is an immutable sequence of characters. It can be sliced by index just like a tuple:"
      ]
    },
    {
      "cell_type": "code",
      "metadata": {
        "colab": {
          "base_uri": "https://localhost:8080/"
        },
        "id": "xPojDnm9Oqik",
        "outputId": "b8bec64e-64cd-47de-bb28-48ee06f03f3d"
      },
      "source": [
        "#We define a character string using quotation marks.\n",
        "my_str = 'Bienvenido a mi primer laboratorio de Algoritmos'\n",
        "# We can chunk it as a list. Like a tuple, it is immutable.\n",
        "print(my_str[13:])"
      ],
      "execution_count": 23,
      "outputs": [
        {
          "output_type": "stream",
          "name": "stdout",
          "text": [
            "mi primer laboratorio de Algoritmos\n"
          ]
        }
      ]
    },
    {
      "cell_type": "markdown",
      "metadata": {
        "id": "wuJYy7tvWtM7"
      },
      "source": [
        "There are many methods associated with strings. We can use string.count() to count the occurrences of a character in a string, use string.find() to return the index of a specific character, and use string.replace() to replace characters"
      ]
    },
    {
      "cell_type": "code",
      "metadata": {
        "colab": {
          "base_uri": "https://localhost:8080/"
        },
        "id": "u9deZq1SOqik",
        "outputId": "a3cbcef1-1772-4cf6-d277-fae40b68e62d"
      },
      "source": [
        "#The count() method allows us to count the occurrences of a substring in the string.\n",
        "print('Contando cuantas veces está la subcadena \"as\" en esta frase'.count('as'))\n",
        "#The find() method allows searching for the index of the first occurrence of a substring.\n",
        "print('Primera vez que aparece \"as\" en esta cadena'.find('as'))\n",
        "#The replace method allows us to replace one substring with another.\n",
        "print('Todas las \"a\" se reemplazarán por \"u\"'.replace('a','u'))"
      ],
      "execution_count": 24,
      "outputs": [
        {
          "output_type": "stream",
          "name": "stdout",
          "text": [
            "3\n",
            "25\n",
            "Todus lus \"u\" se reempluzurán por \"u\"\n"
          ]
        }
      ]
    },
    {
      "cell_type": "markdown",
      "metadata": {
        "id": "sJPn3rkvWwHN"
      },
      "source": [
        "The most commonly used method for strings is string.split(). This method will split the string by the indicated character and return a list:"
      ]
    },
    {
      "cell_type": "code",
      "metadata": {
        "colab": {
          "base_uri": "https://localhost:8080/"
        },
        "id": "hbIaFLFHOqik",
        "outputId": "ed326dc1-98be-42da-9af7-09c02c1c67ae"
      },
      "source": [
        "Time = '2022-08-20 18:21:00'\n",
        "#The split method receives a substring and uses it to split items in a list.\n",
        "#We will use a space to divide date and time\n",
        "splited_list = Time.split(' ')\n",
        "date = splited_list[0]\n",
        "time = splited_list[1]\n",
        "print(date, time)\n",
        "#We can split the time using \":\", obtaining separately: hours, minutes and seconds.\n",
        "#We obtain the hour by indexing the first element of the list.\n",
        "hour = time.split(':')[0]\n",
        "print(hour)"
      ],
      "execution_count": 25,
      "outputs": [
        {
          "output_type": "stream",
          "name": "stdout",
          "text": [
            "2022-08-20 18:21:00\n",
            "18\n"
          ]
        }
      ]
    },
    {
      "cell_type": "markdown",
      "metadata": {
        "id": "9cJQGk96WyVc"
      },
      "source": [
        "We can replace parts of a string by our variable. This is called string formatting."
      ]
    },
    {
      "cell_type": "code",
      "metadata": {
        "colab": {
          "base_uri": "https://localhost:8080/"
        },
        "id": "-E_rIvv6Oqik",
        "outputId": "7d46d601-cbb4-4b43-9d1e-8051c1608287"
      },
      "source": [
        "# We can format the string using square brackets and the .format() method.\n",
        "my_time = 'Hora: {}, Minutos:{}'.format('18','26')\n",
        "print(my_time)"
      ],
      "execution_count": 26,
      "outputs": [
        {
          "output_type": "stream",
          "name": "stdout",
          "text": [
            "Hora: 18, Minutos:26\n"
          ]
        }
      ]
    },
    {
      "cell_type": "markdown",
      "metadata": {
        "id": "1_NbVldpWzAs"
      },
      "source": [
        "Another way to format a string is to use the % symbol."
      ]
    },
    {
      "cell_type": "code",
      "metadata": {
        "colab": {
          "base_uri": "https://localhost:8080/"
        },
        "id": "4rZ4rkD2Oqik",
        "outputId": "0d57cf3c-8e66-4ca1-d220-f883d0967b07"
      },
      "source": [
        "# We use the symbol %, followed by different defined characters, to format the string\n",
        "print('Tomaremos la gravedad como %f m / s^2'%9.81)\n",
        "print('Mi nombre es %s y mi apellido es %s'%('Daniela','Tocua'))"
      ],
      "execution_count": 27,
      "outputs": [
        {
          "output_type": "stream",
          "name": "stdout",
          "text": [
            "Tomaremos la gravedad como 9.810000 m / s^2\n",
            "Mi nombre es Daniela y mi apellido es Tocua\n"
          ]
        }
      ]
    },
    {
      "cell_type": "markdown",
      "metadata": {
        "id": "v_5cocrDW3MN"
      },
      "source": [
        "# Summary\n",
        "\n",
        "Weave seen the basic data types and data structures in Python. It's important to keep practicing to become familiar with these data structures. In the next tutorial, we will cover for and while loops and logical operations in Python."
      ]
    },
    {
      "cell_type": "markdown",
      "metadata": {
        "id": "QL6dNxwCXNEt"
      },
      "source": [
        "<div align=\"center\">\n",
        "<img style=\"display: block; margin: auto;\" alt=\"photo\" src=\"https://cdn.quantconnect.com/web/i/icon.png\">\n",
        "\n",
        "Quantconnect\n",
        "\n",
        "Introduction to Financial Python\n",
        "</div>\n",
        "\n",
        "# 02 Logical Operations and Loops\n",
        "\n",
        "# Introduction\n",
        "We discussed the basic data types and data structures in Python in the last tutorial. This chapter covers logical operations and loops in Python, which are very common in programming.\n",
        "\n",
        "# Logical Operations\n",
        "Like most programming languages, Python has comparison operators:"
      ]
    },
    {
      "cell_type": "code",
      "metadata": {
        "colab": {
          "base_uri": "https://localhost:8080/"
        },
        "id": "70Guys_rOv7a",
        "outputId": "361c5517-2ed5-4089-fa50-f43d9b552d16"
      },
      "source": [
        "# We use logical operators to define truth values in different statements.\n",
        "print(1 == 0)\n",
        "print(1 == 1)\n",
        "print(1 != 0)\n",
        "print(5 >= 5)\n",
        "print(5 >= 6)"
      ],
      "execution_count": 28,
      "outputs": [
        {
          "output_type": "stream",
          "name": "stdout",
          "text": [
            "False\n",
            "True\n",
            "True\n",
            "True\n",
            "False\n"
          ]
        }
      ]
    },
    {
      "cell_type": "markdown",
      "metadata": {
        "id": "8aFHYDj-YTXt"
      },
      "source": [
        "Each statement above has a boolean value, which must be either True or False, but not both.\n",
        "\n",
        "We can combine simple statements P and Q to form complex statements using logical operators:\n",
        "\n",
        "- The statement \"P and Q\" is true if both P and Q are true, otherwise it is false.\n",
        "- The statement \"P or Q\" is false if both P and Q are false, otherwise it is true.\n",
        "- The statement \"not P\" is true if P is false, and vice versa."
      ]
    },
    {
      "cell_type": "code",
      "metadata": {
        "colab": {
          "base_uri": "https://localhost:8080/"
        },
        "id": "O5YEEcUbOv7d",
        "outputId": "c0f655c7-11d7-45c0-9a66-1c78bac5929f"
      },
      "source": [
        "'''\n",
        "We can use the operators \"and\" and \"or\" to form complex propositions.\n",
        "and statements will be true if both are true\n",
        "Sentences or will be true if either of them is true.\n",
        "'''\n",
        "print(2 > 1 and 3 > 2)\n",
        "print(2 > 1 and 3 < 2) \n",
        "print(2 > 1 or 3 < 2)\n",
        "print(2 < 1 and 3 < 2)"
      ],
      "execution_count": 29,
      "outputs": [
        {
          "output_type": "stream",
          "name": "stdout",
          "text": [
            "True\n",
            "False\n",
            "True\n",
            "False\n"
          ]
        }
      ]
    },
    {
      "cell_type": "markdown",
      "metadata": {
        "id": "Dy7yzoSXYXmL"
      },
      "source": [
        "When dealing with a very complex logical statement that involves in several statements, we can use brackets to separate and combine them."
      ]
    },
    {
      "cell_type": "code",
      "metadata": {
        "colab": {
          "base_uri": "https://localhost:8080/"
        },
        "id": "QZ-W2xJZOv7d",
        "outputId": "c75137fe-575c-4bb4-b81e-e7b0dc1b9b7f"
      },
      "source": [
        "# Parentheses are used to prioritize the operations performed.\n",
        "print((3 > 2 or 1 < 3) and (1!=3 and 4>3) and not ( 3 < 2 or 1 < 3 and (1!=3 and 4>3)))\n",
        "print(3 > 2 or 1 < 3 and (1!=3 and 4>3) and not ( 3 < 2 or 1 < 3 and (1!=3 and 4>3)))"
      ],
      "execution_count": 30,
      "outputs": [
        {
          "output_type": "stream",
          "name": "stdout",
          "text": [
            "False\n",
            "True\n"
          ]
        }
      ]
    },
    {
      "cell_type": "markdown",
      "metadata": {
        "id": "s95xoRYMYaPD"
      },
      "source": [
        "Comparing the above two statements, we can see that it's wise to use brackets when we make a complex logical statement.\n",
        "\n",
        "# If Statement\n",
        "An if statement executes a segment of code only if its condition is true. A standard if statement consists of 3 segments: if, elif and else."
      ]
    },
    {
      "cell_type": "markdown",
      "metadata": {
        "id": "aRzMMitAaBOL"
      },
      "source": [
        "```python\n",
        "if statement1:\n",
        "    # if the statement1 is true, execute the code here.\n",
        "    # code.....\n",
        "    # code.....\n",
        "elif statement2:\n",
        "    # if the statement 1 is false, skip the codes above to this part.\n",
        "    # code......\n",
        "    # code......\n",
        "else:\n",
        "    # if none of the above statements is True, skip to this part\n",
        "    # code......\n",
        "```"
      ]
    },
    {
      "cell_type": "markdown",
      "metadata": {
        "id": "l59R2AS8aH2K"
      },
      "source": [
        "An if statement doesn't necessarily has elif and else part. If it's not specified, the indented block of code will be executed when the condition is true, otherwise the whole if statement will be skipped."
      ]
    },
    {
      "cell_type": "code",
      "metadata": {
        "colab": {
          "base_uri": "https://localhost:8080/"
        },
        "id": "FZ5GoTXfOv7e",
        "outputId": "f49176b3-e800-4f93-ab1f-7e064b27fec8"
      },
      "source": [
        "i = 0\n",
        "# Checks the truth value of i==0 and executes the code inside the statement if it is true\n",
        "if i == 0:\n",
        "    print('i==0 es verdadero')"
      ],
      "execution_count": 31,
      "outputs": [
        {
          "output_type": "stream",
          "name": "stdout",
          "text": [
            "i==0 es verdadero\n"
          ]
        }
      ]
    },
    {
      "cell_type": "markdown",
      "metadata": {
        "id": "nPNW-l5eaJn8"
      },
      "source": [
        "As we mentioned above, we can write some complex statements here:"
      ]
    },
    {
      "cell_type": "code",
      "metadata": {
        "colab": {
          "base_uri": "https://localhost:8080/"
        },
        "id": "gh-U6nMzOv7e",
        "outputId": "fafad4c9-3408-4e11-f376-a6806d4a5ea6"
      },
      "source": [
        "# We store Boolean values in p and q\n",
        "p = 0 > 1\n",
        "q = 2 > 3\n",
        "'''\n",
        "We use if, elif, and else statements to execute operations\n",
        "from the truth value of these\n",
        "'''\n",
        "if p and q:\n",
        "    print('p y q es verdadero')\n",
        "elif p and not q:\n",
        "    print('q es falsa')\n",
        "elif q and not p:\n",
        "    print('p es falsa')\n",
        "else:\n",
        "    print('Ni p ni q es verdadera')"
      ],
      "execution_count": 32,
      "outputs": [
        {
          "output_type": "stream",
          "name": "stdout",
          "text": [
            "Ni p ni q es verdadera\n"
          ]
        }
      ]
    },
    {
      "cell_type": "markdown",
      "metadata": {
        "id": "tgRDwiAsaMOL"
      },
      "source": [
        "# Loop Structure\n",
        "Loops are an essential part of programming. The \"for\" and \"while\" loops run a block of code repeatedly.\n",
        "\n",
        "## While Loop\n",
        "A \"while\" loop will run repeatedly until a certain condition has been met."
      ]
    },
    {
      "cell_type": "code",
      "metadata": {
        "colab": {
          "base_uri": "https://localhost:8080/"
        },
        "id": "uQLau8d5Ov7f",
        "outputId": "fcd6ce28-8141-426a-b902-87dfea4a3467"
      },
      "source": [
        "i = 0\n",
        "#The cycle will be repeated until the evaluated condition (i<5) is false.\n",
        "# We add 1 to variable i, iterating 5 times.\n",
        "while i < 5:\n",
        "    print(i)\n",
        "    i += 1 "
      ],
      "execution_count": 33,
      "outputs": [
        {
          "output_type": "stream",
          "name": "stdout",
          "text": [
            "0\n",
            "1\n",
            "2\n",
            "3\n",
            "4\n"
          ]
        }
      ]
    },
    {
      "cell_type": "markdown",
      "metadata": {
        "id": "ydLddFAPaTOE"
      },
      "source": [
        "When making a while loop, we need to ensure that something changes from iteration to iteration so that the while loop will terminate, otherwise, it will run forever. Here we used i += 1 (short for i = i + 1) to make i larger after each iteration. This is the most commonly used method to control a while loop.\n",
        "\n",
        "## For Loop\n",
        "A \"for\" loop will iterate over a sequence of value and terminate when the sequence has ended."
      ]
    },
    {
      "cell_type": "code",
      "metadata": {
        "colab": {
          "base_uri": "https://localhost:8080/"
        },
        "id": "kt8Ie8u1Ov7f",
        "outputId": "fe394ea5-0dc4-48d1-f4b7-b5af95e1a527"
      },
      "source": [
        "# This for loop iterates through the elements of a list and prints them.\n",
        "for i in [0,1,1,2,3,5,8]:\n",
        "    print(i)"
      ],
      "execution_count": 34,
      "outputs": [
        {
          "output_type": "stream",
          "name": "stdout",
          "text": [
            "0\n",
            "1\n",
            "1\n",
            "2\n",
            "3\n",
            "5\n",
            "8\n"
          ]
        }
      ]
    },
    {
      "cell_type": "markdown",
      "metadata": {
        "id": "yWStqpreaX-T"
      },
      "source": [
        "We can also add if statements in a for loop. Here is a real example from our pairs trading algorithm:"
      ]
    },
    {
      "cell_type": "code",
      "metadata": {
        "colab": {
          "base_uri": "https://localhost:8080/"
        },
        "id": "kElmffvFOv7f",
        "outputId": "82a8bde4-9ef1-484b-b748-1ad8f9ac1682"
      },
      "source": [
        "stocks = ['Ecopetrol','Bancolombia','Nutresa','Bavaria','EPM','Alpina']\n",
        "selected = ['Ecopetrol','Nestlé']\n",
        "new_list = []\n",
        "'''\n",
        "Iterate with a for loop the elements of the list stocks\n",
        "We add to a new list the elements that are not also in selected (using an if)\n",
        "'''\n",
        "for i in stocks:\n",
        "    if i not in selected:\n",
        "        new_list.append(i)\n",
        "print(stocks)"
      ],
      "execution_count": 35,
      "outputs": [
        {
          "output_type": "stream",
          "name": "stdout",
          "text": [
            "['Ecopetrol', 'Bancolombia', 'Nutresa', 'Bavaria', 'EPM', 'Alpina']\n"
          ]
        }
      ]
    },
    {
      "cell_type": "markdown",
      "metadata": {
        "id": "wb2hry9dahE0"
      },
      "source": [
        "Here we iterated all the elements in the list 'stocks'. Later in this chapter, we will introduce a smarter way to do this, which is just a one-line code.\n",
        "\n",
        "## Break and continue\n",
        "These are two commonly used commands in a for loop. If \"break\" is triggered while a loop is executing, the loop will terminate immediately:"
      ]
    },
    {
      "cell_type": "code",
      "metadata": {
        "colab": {
          "base_uri": "https://localhost:8080/"
        },
        "id": "yF5wMVItOv7g",
        "outputId": "1fe67b1e-a81d-4804-c9b5-b617e622cefb"
      },
      "source": [
        "my_stocks = ['inversion1','inversion2','inversion3','inversion4','inversion5','inversion6', 'inversion7', 'inversion8']\n",
        "for i in my_stocks:\n",
        "    print(i)\n",
        "    if i == 'inversion5':\n",
        "      # Break sentence forces the cycle to end\n",
        "        break"
      ],
      "execution_count": 36,
      "outputs": [
        {
          "output_type": "stream",
          "name": "stdout",
          "text": [
            "inversion1\n",
            "inversion2\n",
            "inversion3\n",
            "inversion4\n",
            "inversion5\n"
          ]
        }
      ]
    },
    {
      "cell_type": "markdown",
      "metadata": {
        "id": "R0toxyp3ao0T"
      },
      "source": [
        "The \"continue\" command tells the loop to end this iteration and skip to the next iteration:"
      ]
    },
    {
      "cell_type": "code",
      "metadata": {
        "colab": {
          "base_uri": "https://localhost:8080/"
        },
        "id": "Stg-CH6IOv7g",
        "outputId": "2e5d8e31-2ec3-4898-d384-9627b6b9bff7"
      },
      "source": [
        "my_stocks = ['inversion1','inversion2','inversion3','inversion4','inversion5','inversion6', 'inversion7', 'inversion8']\n",
        "for i in my_stocks:\n",
        "    if i == 'inversion5':\n",
        "      # The continue statement ends the current iteration and proceeds to the next one.\n",
        "        continue\n",
        "    print(i)"
      ],
      "execution_count": 37,
      "outputs": [
        {
          "output_type": "stream",
          "name": "stdout",
          "text": [
            "inversion1\n",
            "inversion2\n",
            "inversion3\n",
            "inversion4\n",
            "inversion6\n",
            "inversion7\n",
            "inversion8\n"
          ]
        }
      ]
    },
    {
      "cell_type": "markdown",
      "metadata": {
        "id": "4NusvdhBaxpZ"
      },
      "source": [
        "# List Comprehension\n",
        "List comprehension is a Pythonic way to create lists. Common applications are to make new lists where each element is the result of some operations applied to each member of another sequence. For example, if we want to create a list of squares using for loop:"
      ]
    },
    {
      "cell_type": "code",
      "metadata": {
        "colab": {
          "base_uri": "https://localhost:8080/"
        },
        "id": "bdxxeOABOv7h",
        "outputId": "60bc38b1-ba4a-4376-9b7f-766a63732f3b"
      },
      "source": [
        "squares = []\n",
        "# Creates a list with a for sentence\n",
        "for i in [1,2,3,4,5]:\n",
        "    squares.append(i**2)\n",
        "print(squares)"
      ],
      "execution_count": 40,
      "outputs": [
        {
          "output_type": "stream",
          "name": "stdout",
          "text": [
            "[1, 4, 9, 16, 25]\n"
          ]
        }
      ]
    },
    {
      "cell_type": "markdown",
      "metadata": {
        "id": "--KliJBOa1CC"
      },
      "source": [
        "Using list comprehension:"
      ]
    },
    {
      "cell_type": "code",
      "metadata": {
        "colab": {
          "base_uri": "https://localhost:8080/"
        },
        "id": "440-yjG8Ov7h",
        "outputId": "b9634035-aa17-4088-b3ba-a8b65cba3f3f"
      },
      "source": [
        "list = [1,2,3,4,5]\n",
        "'''\n",
        "We can create this list using list comprehension\n",
        "We apply the **2 operation to the members of the list, and put them in squares list\n",
        "'''\n",
        "squares = [x**2 for x in list]\n",
        "print(squares)"
      ],
      "execution_count": 41,
      "outputs": [
        {
          "output_type": "stream",
          "name": "stdout",
          "text": [
            "[1, 4, 9, 16, 25]\n"
          ]
        }
      ]
    },
    {
      "cell_type": "markdown",
      "metadata": {
        "id": "uMuCfR3ya3zT"
      },
      "source": [
        "Recall the example above where we used a for loop to select stocks. Here we use list comprehension:"
      ]
    },
    {
      "cell_type": "code",
      "metadata": {
        "colab": {
          "base_uri": "https://localhost:8080/"
        },
        "id": "ZGtCtog2Ov7h",
        "outputId": "3497ecf6-c39e-4711-88e6-c97c064656f5"
      },
      "source": [
        "stock = ['Tesla','Chocorramo','Nestlé','Gansito']\n",
        "selected= ['Chocorramo','Nestlé']\n",
        "# We use list comprehension to filter by means of an if to filter the elements of the list stocks.\n",
        "new_list = [x for x in stocks if x in selected]\n",
        "print(new_list)"
      ],
      "execution_count": 42,
      "outputs": [
        {
          "output_type": "stream",
          "name": "stdout",
          "text": [
            "[]\n"
          ]
        }
      ]
    },
    {
      "cell_type": "markdown",
      "metadata": {
        "id": "EPeUv6Lia5oD"
      },
      "source": [
        "A list comprehension consists of square brackets containing an expression followed by a \"for\" clause, and possibly \"for\" or \"if\" clauses. For example:"
      ]
    },
    {
      "cell_type": "code",
      "metadata": {
        "colab": {
          "base_uri": "https://localhost:8080/"
        },
        "id": "O1AMB5d7Ov7i",
        "outputId": "532be5ed-de4c-4518-ae71-758707ad7d2b"
      },
      "source": [
        "#Generates a list with the Cartesian product of two sets and eliminates the elements that are equal in both sets.\n",
        "print([(x, y) for x in [\"a\",\"b\",\"c\"] for y in [\"a\",\"d\",\"b\"] if x != y])\n",
        "#Performs the above operation by applying the concatenation operation to the result of the Cartesian product.\n",
        "print([str(x)+' vs '+str(y) for x in ['Tesla','Chocorramo','Nestlé','Gansito'] for y in ['Gansito','Chocorramo','Quipitos'] if x!=y])"
      ],
      "execution_count": 43,
      "outputs": [
        {
          "output_type": "stream",
          "name": "stdout",
          "text": [
            "[('a', 'd'), ('a', 'b'), ('b', 'a'), ('b', 'd'), ('c', 'a'), ('c', 'd'), ('c', 'b')]\n",
            "['Tesla vs Gansito', 'Tesla vs Chocorramo', 'Tesla vs Quipitos', 'Chocorramo vs Gansito', 'Chocorramo vs Quipitos', 'Nestlé vs Gansito', 'Nestlé vs Chocorramo', 'Nestlé vs Quipitos', 'Gansito vs Chocorramo', 'Gansito vs Quipitos']\n"
          ]
        }
      ]
    },
    {
      "cell_type": "markdown",
      "metadata": {
        "id": "jJpvq-o4a8P7"
      },
      "source": [
        "List comprehension is an elegant way to organize one or more for loops when creating a list.\n",
        "\n",
        "# Summary\n",
        "This chapter has introduced logical operations, loops, and list comprehension. In the next chapter, we will introduce functions and object-oriented programming, which will enable us to make our codes clean and versatile."
      ]
    },
    {
      "cell_type": "markdown",
      "metadata": {
        "id": "Tef_X2wJbdhn"
      },
      "source": [
        "<div align=\"center\">\n",
        "<img style=\"display: block; margin: auto;\" alt=\"photo\" src=\"https://cdn.quantconnect.com/web/i/icon.png\">\n",
        "\n",
        "Quantconnect\n",
        "\n",
        "Introduction to Financial Python\n",
        "</div>\n",
        "\n",
        "# 03 Functions and Objective-Oriented Programming\n",
        "\n",
        "# Introduction\n",
        "\n",
        "In the last tutorial we introduced logical operations, loops and list comprehension. We will introduce functions and object-oriented programming in this chapter, which will enable us to build complex algorithms in more flexible ways.\n",
        "\n",
        "# Functions\n",
        "A function is a reusable block of code. We can use a function to output a value, or do anything else we want. We can easily define our own function by using the keyword \"def\"."
      ]
    },
    {
      "cell_type": "code",
      "metadata": {
        "colab": {
          "base_uri": "https://localhost:8080/"
        },
        "id": "eE_NkTiSO2PO",
        "outputId": "234c82e3-e972-47c2-dabf-815efda58761"
      },
      "source": [
        "'''\n",
        "Defines a function using the def keyword\n",
        "keyword, its arguments are defined inside parentheses.\n",
        "When executed, the function returns the product of the arguments x and y \n",
        "'''\n",
        "\n",
        "def product(x,y):\n",
        "    return x*y\n",
        "print(product(12,12))\n",
        "print(product(4,64))"
      ],
      "execution_count": 44,
      "outputs": [
        {
          "output_type": "stream",
          "name": "stdout",
          "text": [
            "144\n",
            "256\n"
          ]
        }
      ]
    },
    {
      "cell_type": "markdown",
      "metadata": {
        "id": "4oRU_dVJbsdD"
      },
      "source": [
        "The keyword \"def\" is followed by the function name and the parenthesized list of formal parameters. The statements that form the body of the function start at the next line, and must be indented. The product() function above has \"x\" and \"y\" as its parameters. A function doesn't necessarily have parameters:"
      ]
    },
    {
      "cell_type": "code",
      "metadata": {
        "colab": {
          "base_uri": "https://localhost:8080/"
        },
        "id": "JhdWVLbUO2PQ",
        "outputId": "e172e8ee-2e4c-461b-a201-87528c1fef68"
      },
      "source": [
        "# This function returns nothing, it performs an operation without arguments\n",
        "# When executed, the function prints \"Bienvenido a mi laboratorio\"\n",
        "def dar_bienvenida():\n",
        "    print('Bienvenido a mi laboratorio')\n",
        "dar_bienvenida()"
      ],
      "execution_count": 45,
      "outputs": [
        {
          "output_type": "stream",
          "name": "stdout",
          "text": [
            "Bienvenido a mi laboratorio\n"
          ]
        }
      ]
    },
    {
      "cell_type": "markdown",
      "metadata": {
        "id": "lHwqVpWVb1Jr"
      },
      "source": [
        "# Built-in Function\n",
        "**range()** is a function that creates a list containing an arithmetic sequence. It's often used in for loops. The arguments must be integers. If the \"step\" argument is omitted, it defaults to 1."
      ]
    },
    {
      "cell_type": "code",
      "metadata": {
        "colab": {
          "base_uri": "https://localhost:8080/"
        },
        "id": "VVOTELcIO2PQ",
        "outputId": "356bdb42-9856-4a3f-d3e1-9ee08d02d217"
      },
      "source": [
        "#Print a range between two numbers at a given step\n",
        "\n",
        "# If only one argument is given, the range goes from 0 to that argument.\n",
        "print(range(10))\n",
        "# If 2 arguments are received, the range starts from the first one and ends at the second one excluding it\n",
        "print(range(1,11))\n",
        "# If 3 arguments are received, the numbers change with the given step (default is 1)\n",
        "print(range(1,11,2))"
      ],
      "execution_count": 46,
      "outputs": [
        {
          "output_type": "stream",
          "name": "stdout",
          "text": [
            "range(0, 10)\n",
            "range(1, 11)\n",
            "range(1, 11, 2)\n"
          ]
        }
      ]
    },
    {
      "cell_type": "markdown",
      "metadata": {
        "id": "PD0cSgiwcQ4L"
      },
      "source": [
        "**len()** is another function used together with range() to create a for loop. This function returns the length of an object. The argument must be a sequence or a collection."
      ]
    },
    {
      "cell_type": "code",
      "metadata": {
        "colab": {
          "base_uri": "https://localhost:8080/"
        },
        "id": "Hg18c7v-O2PR",
        "outputId": "bea751df-04f6-435e-b3ed-2821558397cc"
      },
      "source": [
        "# The len() function returns the length of an iterable object\n",
        "tickers = ['elemento1','elemento2','elemento3','elemento4','elemento5']\n",
        "print('El tamaño de la lista es {}'.format(len(tickers)))\n",
        "# Prints the elements of the tickers list using a for loop with range len(tickers)\n",
        "for i in range(len(tickers)):\n",
        "    print(tickers[i])\n",
        "\n",
        "# This can be done in a pythonic way as:\n",
        "for ticker in tickers: print(\"ticker: \"+ticker)"
      ],
      "execution_count": 47,
      "outputs": [
        {
          "output_type": "stream",
          "name": "stdout",
          "text": [
            "El tamaño de la lista es 5\n",
            "elemento1\n",
            "elemento2\n",
            "elemento3\n",
            "elemento4\n",
            "elemento5\n",
            "ticker: elemento1\n",
            "ticker: elemento2\n",
            "ticker: elemento3\n",
            "ticker: elemento4\n",
            "ticker: elemento5\n"
          ]
        }
      ]
    },
    {
      "cell_type": "markdown",
      "metadata": {
        "id": "OIQSuub1cWgi"
      },
      "source": [
        "Note: If you want to print only the tickers without those numbers, then simply write \"for ticker in tickers: print ticker\"\n",
        "\n",
        "**map(**) is a function that applies a specific function to every item of a sequence or collection, and returns a list of the results."
      ]
    },
    {
      "cell_type": "markdown",
      "metadata": {
        "id": "pqPuspeG5HAi"
      },
      "source": [
        "Because list at the moment is [1,2,3,4,5] and overwriting list() from builtins we del list"
      ]
    },
    {
      "cell_type": "code",
      "metadata": {
        "colab": {
          "base_uri": "https://localhost:8080/"
        },
        "id": "caV9c-qk4_eZ",
        "outputId": "e4c092e2-9dc3-4450-adf8-7f5861cc1437"
      },
      "source": [
        "print(list)\n",
        "# using the del keyword we deleted the list object, which overwrote our list function\n",
        "del list\n",
        "list"
      ],
      "execution_count": 48,
      "outputs": [
        {
          "output_type": "stream",
          "name": "stdout",
          "text": [
            "[1, 2, 3, 4, 5]\n"
          ]
        },
        {
          "output_type": "execute_result",
          "data": {
            "text/plain": [
              "list"
            ]
          },
          "metadata": {},
          "execution_count": 48
        }
      ]
    },
    {
      "cell_type": "code",
      "metadata": {
        "colab": {
          "base_uri": "https://localhost:8080/"
        },
        "id": "lJBs5ECT4mSq",
        "outputId": "c3b7c23a-b7d9-459c-db2d-29abadc73d26"
      },
      "source": [
        "#With map() we apply an operation to all the elements of an iterable\n",
        "tickers = ['Ecopetrol','Bancolombia','Nutresa','Bavaria','EPM','Alpina']\n",
        "list(map(len,tickers))"
      ],
      "execution_count": 49,
      "outputs": [
        {
          "output_type": "execute_result",
          "data": {
            "text/plain": [
              "[9, 11, 7, 7, 3, 6]"
            ]
          },
          "metadata": {},
          "execution_count": 49
        }
      ]
    },
    {
      "cell_type": "code",
      "metadata": {
        "colab": {
          "base_uri": "https://localhost:8080/"
        },
        "id": "78DyKVOyO2PR",
        "outputId": "874b4698-1fdf-4248-9b26-115a08c706b4"
      },
      "source": [
        "tickers = ['Ecopetrol','Bancolombia','Nutresa','Bavaria','EPM','Alpina']\n",
        "print(list(map(len,tickers)))"
      ],
      "execution_count": 50,
      "outputs": [
        {
          "output_type": "stream",
          "name": "stdout",
          "text": [
            "[9, 11, 7, 7, 3, 6]\n"
          ]
        }
      ]
    },
    {
      "cell_type": "markdown",
      "metadata": {
        "id": "mvr06UM7ca7b"
      },
      "source": [
        "The **lambda operator** is a way to create small anonymous functions. These functions are just needed where they have been created. For example:"
      ]
    },
    {
      "cell_type": "code",
      "metadata": {
        "colab": {
          "base_uri": "https://localhost:8080/"
        },
        "id": "pAEHADYXO2PR",
        "outputId": "8f962ac0-5d69-4599-c78e-76657d51b43a"
      },
      "source": [
        "# With the lambda operator we create an anonymous function, which in this case is executed on the variable x, which varies from 0 to 9.\n",
        "list(map(lambda x: x**2, range(10)))"
      ],
      "execution_count": 51,
      "outputs": [
        {
          "output_type": "execute_result",
          "data": {
            "text/plain": [
              "[0, 1, 4, 9, 16, 25, 36, 49, 64, 81]"
            ]
          },
          "metadata": {},
          "execution_count": 51
        }
      ]
    },
    {
      "cell_type": "markdown",
      "metadata": {
        "id": "Mgixpxomcj3T"
      },
      "source": [
        "map() can be applied to more than one list. The lists have to have the same length."
      ]
    },
    {
      "cell_type": "code",
      "metadata": {
        "colab": {
          "base_uri": "https://localhost:8080/"
        },
        "id": "HtckhAaJO2PS",
        "outputId": "0dfbecab-2a42-46d2-f57a-84cf4cd72536"
      },
      "source": [
        "# use map in 2 lists to apply the anonymous function x + y \n",
        "list(map(lambda x, y: x+y, [1,2,3,4,5],[5,4,3,2,1]))"
      ],
      "execution_count": 52,
      "outputs": [
        {
          "output_type": "execute_result",
          "data": {
            "text/plain": [
              "[6, 6, 6, 6, 6]"
            ]
          },
          "metadata": {},
          "execution_count": 52
        }
      ]
    },
    {
      "cell_type": "markdown",
      "metadata": {
        "id": "ZDnMTH-KcklT"
      },
      "source": [
        "**sorted()** takes a list or set and returns a new sorted list"
      ]
    },
    {
      "cell_type": "code",
      "metadata": {
        "colab": {
          "base_uri": "https://localhost:8080/"
        },
        "id": "P0sHUMFWO2PS",
        "outputId": "3de9d94c-b3e5-4b94-92a9-ce11845a5f5f"
      },
      "source": [
        "# Sorted method returns a new list with the original list elements sorted\n",
        "sorted([5,2,3,4,1])"
      ],
      "execution_count": 53,
      "outputs": [
        {
          "output_type": "execute_result",
          "data": {
            "text/plain": [
              "[1, 2, 3, 4, 5]"
            ]
          },
          "metadata": {},
          "execution_count": 53
        }
      ]
    },
    {
      "cell_type": "markdown",
      "metadata": {
        "id": "-N5_EDOFcnsc"
      },
      "source": [
        "We can add a \"key\" parameter to specify a function to be called on each list element prior to making comparisons. For example:"
      ]
    },
    {
      "cell_type": "code",
      "metadata": {
        "colab": {
          "base_uri": "https://localhost:8080/"
        },
        "id": "0i3peZ0bO2PS",
        "outputId": "d7594b1f-eb73-4d21-d98f-76426d03f8ab"
      },
      "source": [
        "#Using the optional reverse argument we can organize the list by the second element of each tuple\n",
        "price_list = [('AAPL',144.09),('GOOG',911.71),('MSFT',69),('FB',150),('WMT',75.32)]\n",
        "sorted(price_list, key = lambda x: x[1])"
      ],
      "execution_count": 54,
      "outputs": [
        {
          "output_type": "execute_result",
          "data": {
            "text/plain": [
              "[('MSFT', 69), ('WMT', 75.32), ('AAPL', 144.09), ('FB', 150), ('GOOG', 911.71)]"
            ]
          },
          "metadata": {},
          "execution_count": 54
        }
      ]
    },
    {
      "cell_type": "markdown",
      "metadata": {
        "id": "yun2zptKcxe_"
      },
      "source": [
        "By default the values are sorted by ascending order. We can change it to descending by adding an optional parameter \"reverse'."
      ]
    },
    {
      "cell_type": "code",
      "metadata": {
        "colab": {
          "base_uri": "https://localhost:8080/"
        },
        "id": "dEZqdl94O2PT",
        "outputId": "cb460914-5e5a-4aee-fc5c-d97720b2455c"
      },
      "source": [
        "#Using the optional reverse argument we can organize the list in descending order\n",
        "price_list = [('AAPL',144.09),('GOOG',911.71),('MSFT',69),('FB',150),('WMT',75.32)]\n",
        "sorted(price_list, key = lambda x: x[1],reverse = True)"
      ],
      "execution_count": 55,
      "outputs": [
        {
          "output_type": "execute_result",
          "data": {
            "text/plain": [
              "[('GOOG', 911.71), ('FB', 150), ('AAPL', 144.09), ('WMT', 75.32), ('MSFT', 69)]"
            ]
          },
          "metadata": {},
          "execution_count": 55
        }
      ]
    },
    {
      "cell_type": "markdown",
      "metadata": {
        "id": "OA2wYAa0c6Dn"
      },
      "source": [
        "Lists also have a function list.sort(). This function takes the same \"key\" and \"reverse\" arguments as sorted(), but it doesn't return a new list."
      ]
    },
    {
      "cell_type": "code",
      "metadata": {
        "colab": {
          "base_uri": "https://localhost:8080/"
        },
        "id": "pG9VQCLnO2PT",
        "outputId": "33751d59-eda2-4e85-95da-db601a6c7e1d"
      },
      "source": [
        "# Using the sort() function we will not create a new list to sort the data, but it will be sorted on the argument list.\n",
        "price_list = [('AAPL',144.09),('GOOG',911.71),('MSFT',69),('FB',150),('WMT',75.32)]\n",
        "price_list.sort(key = lambda x: x[1])\n",
        "print(price_list)"
      ],
      "execution_count": 56,
      "outputs": [
        {
          "output_type": "stream",
          "name": "stdout",
          "text": [
            "[('MSFT', 69), ('WMT', 75.32), ('AAPL', 144.09), ('FB', 150), ('GOOG', 911.71)]\n"
          ]
        }
      ]
    },
    {
      "cell_type": "markdown",
      "metadata": {
        "id": "mxljL1W1c_c5"
      },
      "source": [
        "# Object-Oriented Programming\n",
        "Python is an object-oriented programming language. It's important to understand the concept of \"objects\" because almost every kind of data from QuantConnect API is an object.\n",
        "\n",
        "## Class\n",
        "A class is a type of data, just like a string, float, or list. When we create an object of that data type, we call it an instance of a class.\n",
        "\n",
        "In Python, everything is an object - everything is an instance of some class. The data stored inside an object are called attributes, and the functions which are associated with the object are called methods.\n",
        "\n",
        "For example, as mentioned above, a list is an object of the \"list\" class, and it has a method list.sort().\n",
        "\n",
        "We can create our own objects by defining a class. We would do this when it's helpful to group certain functions together. For example, we define a class named \"Stock\" here:"
      ]
    },
    {
      "cell_type": "code",
      "metadata": {
        "id": "zC4Y4PgDO2PT"
      },
      "source": [
        "# Defines a stock class, its attributes and methods\n",
        "class stock:\n",
        "    def __init__(self, ticker, open, close, volume):\n",
        "        self.ticker = ticker\n",
        "        self.open = open\n",
        "        self.close = close\n",
        "        self.volume = volume\n",
        "        self.rate_return = float(close)/open - 1\n",
        " \n",
        "    def update(self, open, close):\n",
        "        self.open = open\n",
        "        self.close = close\n",
        "        self.rate_return = float(self.close)/self.open - 1\n",
        " \n",
        "    def print_return(self):\n",
        "        print(self.rate_return)"
      ],
      "execution_count": 57,
      "outputs": []
    },
    {
      "cell_type": "markdown",
      "metadata": {
        "id": "rV06INT5dETi"
      },
      "source": [
        "The \"Stock\" class has attributes \"ticker\", \"open\", \"close\", \"volume\" and \"rate_return\". Inside the class body, the first method is called __init__, which is a special method. When we create a new instance of the class, the __init__ method is immediately executed with all the parameters that we pass to the \"Stock\" object. The purpose of this method is to set up a new \"Stock\" object using data we have provided.\n",
        "\n",
        "Here we create two Stock objects named \"apple\" and \"google\"."
      ]
    },
    {
      "cell_type": "code",
      "metadata": {
        "id": "8tIpNk93O2PU"
      },
      "source": [
        "nestle = stock('NESN', 143.69, 144.09, 20109375)\n",
        "google = stock('GOOG', 898.7, 911.7, 1561616)"
      ],
      "execution_count": 63,
      "outputs": []
    },
    {
      "cell_type": "markdown",
      "metadata": {
        "id": "VxmELNiHdPKS"
      },
      "source": [
        "Stock objects also have two other methods: update() and print_return(). We can access the attribues of a Stock object and call its methods:"
      ]
    },
    {
      "cell_type": "code",
      "metadata": {
        "colab": {
          "base_uri": "https://localhost:8080/"
        },
        "id": "SsiIkmekO2PU",
        "outputId": "087d0ba3-df73-4c81-869f-5bdc8a52fdb0"
      },
      "source": [
        "nestle.ticker\n",
        "google.print_return()\n",
        "google.update(912.8,913.4)\n",
        "google.print_return()"
      ],
      "execution_count": 64,
      "outputs": [
        {
          "output_type": "stream",
          "name": "stdout",
          "text": [
            "0.014465338822744034\n",
            "0.0006573181419806673\n"
          ]
        }
      ]
    },
    {
      "cell_type": "markdown",
      "metadata": {
        "id": "Q8fl7keNdVKF"
      },
      "source": [
        "By calling the update() function, we updated the open and close prices of a stock. Please note that when we use the attributes or call the methods **inside a class**, we need to specify them as self.attribute or self.method(), otherwise Python will deem them as global variables and thus raise an error.\n",
        "\n",
        "We can add an attribute to an object anywhere:"
      ]
    },
    {
      "cell_type": "code",
      "metadata": {
        "colab": {
          "base_uri": "https://localhost:8080/",
          "height": 35
        },
        "id": "rO4OLnqOO2PU",
        "outputId": "b1265098-198e-4e36-d308-4cb4c48e7bc0"
      },
      "source": [
        "nestle.ceo = 'Mark Schneider'\n",
        "nestle.ceo"
      ],
      "execution_count": 65,
      "outputs": [
        {
          "output_type": "execute_result",
          "data": {
            "text/plain": [
              "'Mark Schneider'"
            ],
            "application/vnd.google.colaboratory.intrinsic+json": {
              "type": "string"
            }
          },
          "metadata": {},
          "execution_count": 65
        }
      ]
    },
    {
      "cell_type": "markdown",
      "metadata": {
        "id": "WyfnFgVidh4J"
      },
      "source": [
        "We can check what names (i.e. attributes and methods) are defined on an object using the dir() function:"
      ]
    },
    {
      "cell_type": "code",
      "metadata": {
        "colab": {
          "base_uri": "https://localhost:8080/"
        },
        "id": "pPoz0LA8O2PU",
        "outputId": "187cf7bc-3c90-4bf7-c9cf-14ebe5e7c694"
      },
      "source": [
        "dir(nestle)"
      ],
      "execution_count": 66,
      "outputs": [
        {
          "output_type": "execute_result",
          "data": {
            "text/plain": [
              "['__class__',\n",
              " '__delattr__',\n",
              " '__dict__',\n",
              " '__dir__',\n",
              " '__doc__',\n",
              " '__eq__',\n",
              " '__format__',\n",
              " '__ge__',\n",
              " '__getattribute__',\n",
              " '__gt__',\n",
              " '__hash__',\n",
              " '__init__',\n",
              " '__init_subclass__',\n",
              " '__le__',\n",
              " '__lt__',\n",
              " '__module__',\n",
              " '__ne__',\n",
              " '__new__',\n",
              " '__reduce__',\n",
              " '__reduce_ex__',\n",
              " '__repr__',\n",
              " '__setattr__',\n",
              " '__sizeof__',\n",
              " '__str__',\n",
              " '__subclasshook__',\n",
              " '__weakref__',\n",
              " 'ceo',\n",
              " 'close',\n",
              " 'open',\n",
              " 'print_return',\n",
              " 'rate_return',\n",
              " 'ticker',\n",
              " 'update',\n",
              " 'volume']"
            ]
          },
          "metadata": {},
          "execution_count": 66
        }
      ]
    },
    {
      "cell_type": "markdown",
      "metadata": {
        "id": "Qpemj1UZd2aa"
      },
      "source": [
        "## Inheritance\n",
        "Inheritance is a way of arranging classes in a hierarchy from the most general to the most specific. A \"child\" class is a more specific type of a \"parent\" class because a child class will inherit all the attribues and methods of its parent. For example, we define a class named \"Child\" which inherits \"Stock\":"
      ]
    },
    {
      "cell_type": "code",
      "metadata": {
        "id": "UELXnxomO2PV"
      },
      "source": [
        "#We create inherited class child from stock\n",
        "class child(stock):\n",
        "    def __init__(self,name):\n",
        "        self.name = name"
      ],
      "execution_count": 62,
      "outputs": []
    },
    {
      "cell_type": "code",
      "metadata": {
        "colab": {
          "base_uri": "https://localhost:8080/"
        },
        "id": "ffS2THZyO2PV",
        "outputId": "b59f887f-9b6c-419b-98bf-86d6087a9f4e"
      },
      "source": [
        "#Child class inherits attributes and methods from parent class\n",
        "aa = child('aa')\n",
        "print(aa.name)\n",
        "aa.update(100,102)\n",
        "print(aa.open)\n",
        "print(aa.close)\n",
        "print(aa.print_return())"
      ],
      "execution_count": null,
      "outputs": [
        {
          "output_type": "stream",
          "name": "stdout",
          "text": [
            "aa\n",
            "100\n",
            "102\n",
            "0.020000000000000018\n",
            "None\n"
          ]
        }
      ]
    },
    {
      "cell_type": "markdown",
      "metadata": {
        "id": "pdIEjUv2eJqL"
      },
      "source": [
        "As seen above, the new class Child has inherited the methods from Stock.\n",
        "\n",
        "#Summary\n",
        "\n",
        "In this chapter we have introduced functions and classes. When we write a QuantConnect algorithm, we would define our algorithm as a class (QCAlgorithm). This means our algorithm inherited the QC API methods from QCAlgorithm class.\n",
        "\n",
        "In the next chapter, we will introduce NumPy and Pandas, which enable us to conduct scientific calculations in Python."
      ]
    },
    {
      "cell_type": "markdown",
      "metadata": {
        "id": "dQbENH6mexTd"
      },
      "source": [
        "<div align=\"center\">\n",
        "<img style=\"display: block; margin: auto;\" alt=\"photo\" src=\"https://cdn.quantconnect.com/web/i/icon.png\">\n",
        "\n",
        "Quantconnect\n",
        "\n",
        "Introduction to Financial Python\n",
        "</div>\n",
        "\n",
        "# 04 NumPy and Basic Pandas\n",
        "\n",
        "# Introduction\n",
        "\n",
        "Now that we have introduced the fundamentals of Python, it's time to learn about NumPy and Pandas.\n",
        "\n",
        "# NumPy\n",
        "NumPy is the core library for scientific computing in Python. It provides a high-performance multidimensional array object, and tools for working with these arrays. It also has strong integration with Pandas, which is another powerful tool for manipulating financial data.\n",
        "\n",
        "Python packages like NumPy and Pandas contain classes and methods which we can use by importing the package:"
      ]
    },
    {
      "cell_type": "code",
      "metadata": {
        "id": "aIESp-rdO58h"
      },
      "source": [
        "import numpy as np"
      ],
      "execution_count": 68,
      "outputs": []
    },
    {
      "cell_type": "markdown",
      "metadata": {
        "id": "GScHHJ5ke7ea"
      },
      "source": [
        "## Basic NumPy Arrays\n",
        "A NumPy array is a grid of values, all of the same type, and is indexed by a tuple of nonnegative integers. Here we make an array by passing a list of Apple stock prices:"
      ]
    },
    {
      "cell_type": "code",
      "metadata": {
        "colab": {
          "base_uri": "https://localhost:8080/"
        },
        "id": "lZI1wkwDO58i",
        "outputId": "e2d590ce-1a92-4ee0-9bcb-31f4236b92ca"
      },
      "source": [
        "#We create an array from a list using np.array()\n",
        "price_list = [143.73, 145.83, 143.68, 144.02, 143.5, 142.62]\n",
        "price_array = np.array(price_list)\n",
        "print(price_array, type(price_array))"
      ],
      "execution_count": 69,
      "outputs": [
        {
          "output_type": "stream",
          "name": "stdout",
          "text": [
            "[143.73 145.83 143.68 144.02 143.5  142.62] <class 'numpy.ndarray'>\n"
          ]
        }
      ]
    },
    {
      "cell_type": "markdown",
      "metadata": {
        "id": "-5Yj6u9ifB-t"
      },
      "source": [
        "Notice that the type of array is \"ndarray\" which is a multi-dimensional array. If we pass np.array() a list of lists, it will create a 2-dimensional array."
      ]
    },
    {
      "cell_type": "code",
      "metadata": {
        "colab": {
          "base_uri": "https://localhost:8080/"
        },
        "id": "obvIZrK-O58j",
        "outputId": "9da8e063-c518-47e6-9830-b34a7e294e8f"
      },
      "source": [
        "Ar = np.array([[1,3],[2,4]])\n",
        "print(Ar, type(Ar))"
      ],
      "execution_count": 70,
      "outputs": [
        {
          "output_type": "stream",
          "name": "stdout",
          "text": [
            "[[1 3]\n",
            " [2 4]] <class 'numpy.ndarray'>\n"
          ]
        }
      ]
    },
    {
      "cell_type": "markdown",
      "metadata": {
        "id": "uDdfLD9HfHkl"
      },
      "source": [
        "We get the dimensions of an ndarray using the .shape attribute:"
      ]
    },
    {
      "cell_type": "code",
      "metadata": {
        "colab": {
          "base_uri": "https://localhost:8080/"
        },
        "id": "G2txdn73O58j",
        "outputId": "1d0884ba-8aee-4975-ef77-d714aeced33d"
      },
      "source": [
        "# Shape attribute contains array dimensions\n",
        "print(Ar.shape)"
      ],
      "execution_count": 71,
      "outputs": [
        {
          "output_type": "stream",
          "name": "stdout",
          "text": [
            "(2, 2)\n"
          ]
        }
      ]
    },
    {
      "cell_type": "markdown",
      "metadata": {
        "id": "87W5ueORfPEy"
      },
      "source": [
        "If we create an 2-dimensional array (i.e. matrix), each row can be accessed by index:"
      ]
    },
    {
      "cell_type": "code",
      "metadata": {
        "colab": {
          "base_uri": "https://localhost:8080/"
        },
        "id": "x_QV9aPbO58j",
        "outputId": "17d0a7cd-d7a7-48e4-df5d-9afde136c6af"
      },
      "source": [
        "print(Ar[0])\n",
        "print(Ar[1])"
      ],
      "execution_count": 72,
      "outputs": [
        {
          "output_type": "stream",
          "name": "stdout",
          "text": [
            "[1 3]\n",
            "[2 4]\n"
          ]
        }
      ]
    },
    {
      "cell_type": "markdown",
      "metadata": {
        "id": "5Hke7Vt-fSGB"
      },
      "source": [
        "If we want to access the matrix by column instead:"
      ]
    },
    {
      "cell_type": "code",
      "metadata": {
        "colab": {
          "base_uri": "https://localhost:8080/"
        },
        "id": "gHVwbPfOO58j",
        "outputId": "9bdd57dd-0f71-4247-82fe-9d865dc67d86"
      },
      "source": [
        "#We index the rows and columns obtaining data of ndarray type\n",
        "print('the first column: ', Ar[:,0])\n",
        "print('the second column: ', Ar[:,1])"
      ],
      "execution_count": 73,
      "outputs": [
        {
          "output_type": "stream",
          "name": "stdout",
          "text": [
            "the first column:  [1 2]\n",
            "the second column:  [3 4]\n"
          ]
        }
      ]
    },
    {
      "cell_type": "markdown",
      "metadata": {
        "id": "T61cD0HMfStB"
      },
      "source": [
        "## Array Functions\n",
        "Some functions built in NumPy that allow us to perform calculations on arrays. For example, we can apply the natural logarithm to each element of an array:"
      ]
    },
    {
      "cell_type": "code",
      "metadata": {
        "colab": {
          "base_uri": "https://localhost:8080/"
        },
        "id": "PKhwtJ7XO58k",
        "outputId": "2e8ac73e-f8e4-4b5e-b8f1-f0e8ae5fe9e2"
      },
      "source": [
        "# log function is applied to each element of the array\n",
        "print(np.log(price_array))"
      ],
      "execution_count": 74,
      "outputs": [
        {
          "output_type": "stream",
          "name": "stdout",
          "text": [
            "[4.96793654 4.98244156 4.9675886  4.96995218 4.96633504 4.96018375]\n"
          ]
        }
      ]
    },
    {
      "cell_type": "markdown",
      "metadata": {
        "id": "uzjBRFBLfZ-D"
      },
      "source": [
        "Other functions return a single value:"
      ]
    },
    {
      "cell_type": "code",
      "metadata": {
        "colab": {
          "base_uri": "https://localhost:8080/"
        },
        "id": "nQuABZqUO58k",
        "outputId": "828aaa07-cddc-4051-f0db-0cf9dad48c84"
      },
      "source": [
        "# mean: sum(price_array) / len(price_array)\n",
        "print(np.mean(price_array))\n",
        "# std: sqrt(((a_0 - mean(price_array))**2 + (a_1 - mean(price_array))**2  + ... + (a_n - mean(price_array))**2)/n)\n",
        "print(np.std(price_array))\n",
        "# sum: a_0+a_1+...+a_n  where a_i belongs to price_array and  0 < i <len(price_array)\n",
        "print(np.sum(price_array))\n",
        "# max: returns max number from an array\n",
        "print(np.max(price_array))"
      ],
      "execution_count": 75,
      "outputs": [
        {
          "output_type": "stream",
          "name": "stdout",
          "text": [
            "143.89666666666668\n",
            "0.9673790478515796\n",
            "863.38\n",
            "145.83\n"
          ]
        }
      ]
    },
    {
      "cell_type": "markdown",
      "metadata": {
        "id": "IRW95BsifgDB"
      },
      "source": [
        "The functions above return the mean, standard deviation, total and maximum value of an array.\n",
        "\n",
        "# Pandas\n",
        "Pandas is one of the most powerful tools for dealing with financial data. \n",
        "\n",
        "First we need to import Pandas:"
      ]
    },
    {
      "cell_type": "code",
      "metadata": {
        "id": "xIYH4oUfO58k"
      },
      "source": [
        "import pandas as pd"
      ],
      "execution_count": 76,
      "outputs": []
    },
    {
      "cell_type": "markdown",
      "metadata": {
        "id": "zOig5gORfnJU"
      },
      "source": [
        "## Series\n",
        "Series is a one-dimensional labeled array capable of holding any data type (integers, strings, float, Python object, etc.)\n",
        "\n",
        "We create a Series by calling pd.Series(data), where data can be a dictionary, an array or just a scalar value."
      ]
    },
    {
      "cell_type": "code",
      "metadata": {
        "colab": {
          "base_uri": "https://localhost:8080/"
        },
        "id": "JmzoNzrPO58k",
        "outputId": "1c24a889-e8c5-4a6b-bae6-7cf9fddb0b63"
      },
      "source": [
        "# We create a series from a list using pd.Series() method\n",
        "price = [143.73, 145.83, 143.68, 144.02, 143.5, 142.62]\n",
        "s = pd.Series(price)\n",
        "s"
      ],
      "execution_count": 77,
      "outputs": [
        {
          "output_type": "execute_result",
          "data": {
            "text/plain": [
              "0    143.73\n",
              "1    145.83\n",
              "2    143.68\n",
              "3    144.02\n",
              "4    143.50\n",
              "5    142.62\n",
              "dtype: float64"
            ]
          },
          "metadata": {},
          "execution_count": 77
        }
      ]
    },
    {
      "cell_type": "markdown",
      "metadata": {
        "id": "tP5iDnunfq46"
      },
      "source": [
        "We can customize the indices of a new Series:"
      ]
    },
    {
      "cell_type": "code",
      "metadata": {
        "colab": {
          "base_uri": "https://localhost:8080/"
        },
        "id": "eswQC3ZPO58l",
        "outputId": "5e6b1247-84f0-449f-8bee-68e26dcd281d"
      },
      "source": [
        "# usando el argumento opcional index podemos personalizar los índices\n",
        "s = pd.Series(price,index = ['q','w','e','r','t','y'])\n",
        "s"
      ],
      "execution_count": 79,
      "outputs": [
        {
          "output_type": "execute_result",
          "data": {
            "text/plain": [
              "q    143.73\n",
              "w    145.83\n",
              "e    143.68\n",
              "r    144.02\n",
              "t    143.50\n",
              "y    142.62\n",
              "dtype: float64"
            ]
          },
          "metadata": {},
          "execution_count": 79
        }
      ]
    },
    {
      "cell_type": "markdown",
      "metadata": {
        "id": "wdZrb8pEfuua"
      },
      "source": [
        "Or we can change the indices of an existing Series:"
      ]
    },
    {
      "cell_type": "code",
      "metadata": {
        "colab": {
          "base_uri": "https://localhost:8080/"
        },
        "id": "MwlRnPF6O58l",
        "outputId": "39256452-4ded-4766-fd72-c2397e27cd57"
      },
      "source": [
        "# Changing index attribute we can customize the index\n",
        "s.index = [6,5,4,3,2,1]\n",
        "s"
      ],
      "execution_count": 81,
      "outputs": [
        {
          "output_type": "execute_result",
          "data": {
            "text/plain": [
              "6    143.73\n",
              "5    145.83\n",
              "4    143.68\n",
              "3    144.02\n",
              "2    143.50\n",
              "1    142.62\n",
              "dtype: float64"
            ]
          },
          "metadata": {},
          "execution_count": 81
        }
      ]
    },
    {
      "cell_type": "markdown",
      "metadata": {
        "id": "6cGNQZwLfxIz"
      },
      "source": [
        "Series is like a list since it can be sliced by index:"
      ]
    },
    {
      "cell_type": "code",
      "metadata": {
        "colab": {
          "base_uri": "https://localhost:8080/"
        },
        "id": "N9bBSg6cO58l",
        "outputId": "712ffa94-6af1-43ad-d6ce-3ef89170c471"
      },
      "source": [
        "# Series can be sliced like lists\n",
        "print(s[1:])\n",
        "print(s[:-2])"
      ],
      "execution_count": 82,
      "outputs": [
        {
          "output_type": "stream",
          "name": "stdout",
          "text": [
            "5    145.83\n",
            "4    143.68\n",
            "3    144.02\n",
            "2    143.50\n",
            "1    142.62\n",
            "dtype: float64\n",
            "6    143.73\n",
            "5    145.83\n",
            "4    143.68\n",
            "3    144.02\n",
            "dtype: float64\n"
          ]
        }
      ]
    },
    {
      "cell_type": "markdown",
      "metadata": {
        "id": "5V25nViZfz3Z"
      },
      "source": [
        "Series is also like a dictionary whose values can be set or fetched by index label:"
      ]
    },
    {
      "cell_type": "code",
      "metadata": {
        "colab": {
          "base_uri": "https://localhost:8080/"
        },
        "id": "b3Y0kKGYO58l",
        "outputId": "de275325-872b-49fe-db63-fd03240f2ef8"
      },
      "source": [
        "#The values of the series can be obtained from its index\n",
        "print(s[4])\n",
        "s[4] = 0\n",
        "print(s)"
      ],
      "execution_count": 83,
      "outputs": [
        {
          "output_type": "stream",
          "name": "stdout",
          "text": [
            "143.68\n",
            "6    143.73\n",
            "5    145.83\n",
            "4      0.00\n",
            "3    144.02\n",
            "2    143.50\n",
            "1    142.62\n",
            "dtype: float64\n"
          ]
        }
      ]
    },
    {
      "cell_type": "markdown",
      "metadata": {
        "id": "RQ1P7Gkyf060"
      },
      "source": [
        "Series can also have a name attribute, which will be used when we make up a Pandas DataFrame using several series."
      ]
    },
    {
      "cell_type": "code",
      "metadata": {
        "colab": {
          "base_uri": "https://localhost:8080/"
        },
        "id": "ZeD4-p7KO58m",
        "outputId": "3fbe0f71-a26e-48c7-9ad8-274029d5dcb1"
      },
      "source": [
        "# We can give a name to the series using the attribute name\n",
        "s = pd.Series(price, name = 'Apple  Lista de Precios')\n",
        "print(s)\n",
        "print(s.name)"
      ],
      "execution_count": 84,
      "outputs": [
        {
          "output_type": "stream",
          "name": "stdout",
          "text": [
            "0    143.73\n",
            "1    145.83\n",
            "2    143.68\n",
            "3    144.02\n",
            "4    143.50\n",
            "5    142.62\n",
            "Name: Apple  Lista de Precios, dtype: float64\n",
            "Apple  Lista de Precios\n"
          ]
        }
      ]
    },
    {
      "cell_type": "markdown",
      "metadata": {
        "id": "geJb1pGHf5Et"
      },
      "source": [
        "We can get the statistical summaries of a Series:"
      ]
    },
    {
      "cell_type": "code",
      "metadata": {
        "colab": {
          "base_uri": "https://localhost:8080/"
        },
        "id": "mGPtFcjegm4i",
        "outputId": "bfd96095-c4ec-4683-eed5-e228c833eaa2"
      },
      "source": [
        "#dprints the statistical summary of the series data\n",
        "print(s.describe())"
      ],
      "execution_count": 85,
      "outputs": [
        {
          "output_type": "stream",
          "name": "stdout",
          "text": [
            "count      6.000000\n",
            "mean     143.896667\n",
            "std        1.059711\n",
            "min      142.620000\n",
            "25%      143.545000\n",
            "50%      143.705000\n",
            "75%      143.947500\n",
            "max      145.830000\n",
            "Name: Apple  Lista de Precios, dtype: float64\n"
          ]
        }
      ]
    },
    {
      "cell_type": "markdown",
      "metadata": {
        "id": "LkdZu-CDgvlR"
      },
      "source": [
        "## Time Index\n",
        "Pandas has a built-in function specifically for creating date indices: pd.date_range(). We use it to create a new index for our Series:"
      ]
    },
    {
      "cell_type": "code",
      "metadata": {
        "colab": {
          "base_uri": "https://localhost:8080/"
        },
        "id": "HJe5hU4zO58m",
        "outputId": "8ee1cc11-ca6a-436d-c433-fd353b856188"
      },
      "source": [
        "#We create a date_range from a given date, with n periods = len(s) with a step of 1 day.\n",
        "time_index = pd.date_range('2022-08-21',periods = len(s),freq = 'D')\n",
        "print(time_index)\n",
        "s.index = time_index\n",
        "print(s)"
      ],
      "execution_count": 86,
      "outputs": [
        {
          "output_type": "stream",
          "name": "stdout",
          "text": [
            "DatetimeIndex(['2022-08-21', '2022-08-22', '2022-08-23', '2022-08-24',\n",
            "               '2022-08-25', '2022-08-26'],\n",
            "              dtype='datetime64[ns]', freq='D')\n",
            "2022-08-21    143.73\n",
            "2022-08-22    145.83\n",
            "2022-08-23    143.68\n",
            "2022-08-24    144.02\n",
            "2022-08-25    143.50\n",
            "2022-08-26    142.62\n",
            "Freq: D, Name: Apple  Lista de Precios, dtype: float64\n"
          ]
        }
      ]
    },
    {
      "cell_type": "markdown",
      "metadata": {
        "id": "7WedejFZg19J"
      },
      "source": [
        "Series are usually accessed using the iloc[] and loc[] methods. iloc[] is used to access elements by integer index, and loc[] is used to access the index of the series.\n",
        "\n",
        "iloc[] is necessary when the index of a series are integers, take our previous defined series as example:"
      ]
    },
    {
      "cell_type": "code",
      "metadata": {
        "colab": {
          "base_uri": "https://localhost:8080/"
        },
        "id": "KrVSOyMvO58m",
        "outputId": "3f528702-3bd0-4f03-d2f0-dd49891b8580"
      },
      "source": [
        "s.index = [6,5,4,3,2,1]\n",
        "print(s)\n",
        "print(s[1])"
      ],
      "execution_count": 87,
      "outputs": [
        {
          "output_type": "stream",
          "name": "stdout",
          "text": [
            "6    143.73\n",
            "5    145.83\n",
            "4    143.68\n",
            "3    144.02\n",
            "2    143.50\n",
            "1    142.62\n",
            "Name: Apple  Lista de Precios, dtype: float64\n",
            "142.62\n"
          ]
        }
      ]
    },
    {
      "cell_type": "markdown",
      "metadata": {
        "id": "r30VKPtpg61p"
      },
      "source": [
        "If we intended to take the second element of the series, we would make a mistake here, because the index are integers. In order to access to the element we want, we use iloc[] here:"
      ]
    },
    {
      "cell_type": "code",
      "metadata": {
        "colab": {
          "base_uri": "https://localhost:8080/"
        },
        "id": "bHukfaAmO58m",
        "outputId": "4846b50e-b5a4-4b24-c651-a335c6539dc1"
      },
      "source": [
        "#iloc obtains the indexed element in order, not by customized indexes\n",
        "print(s.iloc[0])"
      ],
      "execution_count": 88,
      "outputs": [
        {
          "output_type": "stream",
          "name": "stdout",
          "text": [
            "143.73\n"
          ]
        }
      ]
    },
    {
      "cell_type": "markdown",
      "metadata": {
        "id": "kHVBRL_Rg84j"
      },
      "source": [
        "While working with time series data, we often use time as the index. Pandas provides us with various methods to access the data by time index"
      ]
    },
    {
      "cell_type": "code",
      "metadata": {
        "colab": {
          "base_uri": "https://localhost:8080/"
        },
        "id": "FCf8Hg7jO58n",
        "outputId": "7b204af3-2cdf-411b-9ffa-58a39c3c512d"
      },
      "source": [
        "s.index = time_index\n",
        "print(s['2022-08-22'])"
      ],
      "execution_count": 89,
      "outputs": [
        {
          "output_type": "stream",
          "name": "stdout",
          "text": [
            "145.83\n"
          ]
        }
      ]
    },
    {
      "cell_type": "markdown",
      "metadata": {
        "id": "XJXcrSFpg-To"
      },
      "source": [
        "We can even access to a range of dates:"
      ]
    },
    {
      "cell_type": "code",
      "metadata": {
        "colab": {
          "base_uri": "https://localhost:8080/"
        },
        "id": "NsE-Lr_9O58n",
        "outputId": "52b42a94-0a25-4c1f-b399-53611e6d3589"
      },
      "source": [
        "print(s['2022-08-21':'2022-08-26'])"
      ],
      "execution_count": 90,
      "outputs": [
        {
          "output_type": "stream",
          "name": "stdout",
          "text": [
            "2022-08-21    143.73\n",
            "2022-08-22    145.83\n",
            "2022-08-23    143.68\n",
            "2022-08-24    144.02\n",
            "2022-08-25    143.50\n",
            "2022-08-26    142.62\n",
            "Freq: D, Name: Apple  Lista de Precios, dtype: float64\n"
          ]
        }
      ]
    },
    {
      "cell_type": "markdown",
      "metadata": {
        "id": "cWA3NCXEhCLB"
      },
      "source": [
        "Series[] provides us a very flexible way to index data. We can add any condition in the square brackets:"
      ]
    },
    {
      "cell_type": "code",
      "metadata": {
        "colab": {
          "base_uri": "https://localhost:8080/"
        },
        "id": "aawbrg2EO58n",
        "outputId": "20142676-c5af-4e2f-f014-232c8610b100"
      },
      "source": [
        "# Instead of providing an index, we can filter data by a boolean condition\n",
        "print(s[s < np.mean(s)] )\n",
        "print([(s > np.mean(s)) & (s < np.mean(s) + 1.64*np.std(s))])"
      ],
      "execution_count": 91,
      "outputs": [
        {
          "output_type": "stream",
          "name": "stdout",
          "text": [
            "2022-08-21    143.73\n",
            "2022-08-23    143.68\n",
            "2022-08-25    143.50\n",
            "2022-08-26    142.62\n",
            "Name: Apple  Lista de Precios, dtype: float64\n",
            "[2022-08-21    False\n",
            "2022-08-22    False\n",
            "2022-08-23    False\n",
            "2022-08-24     True\n",
            "2022-08-25    False\n",
            "2022-08-26    False\n",
            "Freq: D, Name: Apple  Lista de Precios, dtype: bool]\n"
          ]
        }
      ]
    },
    {
      "cell_type": "markdown",
      "metadata": {
        "id": "jAByChIwhEuI"
      },
      "source": [
        "As demonstrated, we can use logical operators like & (and), | (or) and ~ (not) to group multiple conditions.\n",
        "\n",
        "# Summary\n",
        "Here we have introduced NumPy and Pandas for scientific computing in Python. In the next chapter, we will dive into Pandas to learn resampling and manipulating Pandas DataFrame, which are commonly used in financial data analysis."
      ]
    },
    {
      "cell_type": "markdown",
      "metadata": {
        "id": "OtjOpw6oJp6z"
      },
      "source": [
        "<div align=\"center\">\n",
        "<img style=\"display: block; margin: auto;\" alt=\"photo\" src=\"https://cdn.quantconnect.com/web/i/icon.png\"> <img style=\"display: block; margin: auto;\" alt=\"photo\" src=\"https://www.marketing-branding.com/wp-content/uploads/2020/07/google-colaboratory-colab-guia-completa.jpg \" width=\"50\" height=\"50\">\n",
        "<img style=\"display: block; margin: auto;\" alt=\"photo\" src=\"https://upload.wikimedia.org/wikipedia/commons/d/da/Yahoo_Finance_Logo_2019.svg\" width=\"50\" height=\"50\">  \n",
        "\n",
        "Quantconnect -> Google Colab with Yahoo Finance data\n",
        "\n",
        "Introduction to Financial Python\n",
        "</div>\n",
        "\n",
        "# 05 Pandas-Resampling and DataFrame\n",
        "\n",
        "# Introduction\n",
        "In the last chapter we had a glimpse of Pandas. In this chapter we will learn about resampling methods and the DataFrame object, which is a powerful tool for financial data analysis.\n",
        "\n",
        "# Fetching Data\n",
        "Here we use the Yahoo Finance to retrieve data.\n"
      ]
    },
    {
      "cell_type": "code",
      "metadata": {
        "colab": {
          "base_uri": "https://localhost:8080/"
        },
        "id": "luU8mZTsHW9x",
        "outputId": "85e2ccc0-2642-488e-a07f-6f6730635833"
      },
      "source": [
        "!pip install yfinance"
      ],
      "execution_count": 92,
      "outputs": [
        {
          "output_type": "stream",
          "name": "stdout",
          "text": [
            "Looking in indexes: https://pypi.org/simple, https://us-python.pkg.dev/colab-wheels/public/simple/\n",
            "Collecting yfinance\n",
            "  Downloading yfinance-0.1.74-py2.py3-none-any.whl (27 kB)\n",
            "Requirement already satisfied: lxml>=4.5.1 in /usr/local/lib/python3.7/dist-packages (from yfinance) (4.9.1)\n",
            "Collecting requests>=2.26\n",
            "  Downloading requests-2.28.1-py3-none-any.whl (62 kB)\n",
            "\u001b[K     |████████████████████████████████| 62 kB 1.1 MB/s \n",
            "\u001b[?25hRequirement already satisfied: multitasking>=0.0.7 in /usr/local/lib/python3.7/dist-packages (from yfinance) (0.0.11)\n",
            "Requirement already satisfied: pandas>=0.24.0 in /usr/local/lib/python3.7/dist-packages (from yfinance) (1.3.5)\n",
            "Requirement already satisfied: numpy>=1.15 in /usr/local/lib/python3.7/dist-packages (from yfinance) (1.21.6)\n",
            "Requirement already satisfied: pytz>=2017.3 in /usr/local/lib/python3.7/dist-packages (from pandas>=0.24.0->yfinance) (2022.2.1)\n",
            "Requirement already satisfied: python-dateutil>=2.7.3 in /usr/local/lib/python3.7/dist-packages (from pandas>=0.24.0->yfinance) (2.8.2)\n",
            "Requirement already satisfied: six>=1.5 in /usr/local/lib/python3.7/dist-packages (from python-dateutil>=2.7.3->pandas>=0.24.0->yfinance) (1.15.0)\n",
            "Requirement already satisfied: charset-normalizer<3,>=2 in /usr/local/lib/python3.7/dist-packages (from requests>=2.26->yfinance) (2.1.0)\n",
            "Requirement already satisfied: urllib3<1.27,>=1.21.1 in /usr/local/lib/python3.7/dist-packages (from requests>=2.26->yfinance) (1.24.3)\n",
            "Requirement already satisfied: certifi>=2017.4.17 in /usr/local/lib/python3.7/dist-packages (from requests>=2.26->yfinance) (2022.6.15)\n",
            "Requirement already satisfied: idna<4,>=2.5 in /usr/local/lib/python3.7/dist-packages (from requests>=2.26->yfinance) (2.10)\n",
            "Installing collected packages: requests, yfinance\n",
            "  Attempting uninstall: requests\n",
            "    Found existing installation: requests 2.23.0\n",
            "    Uninstalling requests-2.23.0:\n",
            "      Successfully uninstalled requests-2.23.0\n",
            "Successfully installed requests-2.28.1 yfinance-0.1.74\n"
          ]
        }
      ]
    },
    {
      "cell_type": "code",
      "metadata": {
        "colab": {
          "base_uri": "https://localhost:8080/",
          "height": 492
        },
        "id": "mWZ-nirTZHrE",
        "outputId": "ec08c274-3466-4964-b4b8-46a4fb734b93"
      },
      "source": [
        "import yfinance as yf\n",
        "\n",
        "aapl = yf.Ticker(\"AAPL\")\n",
        "\n",
        "# get stock info\n",
        "print(aapl.info)\n",
        "\n",
        "# get historical market data\n",
        "aapl_table = aapl.history(start=\"2021-01-01\",  end=\"2021-12-31\")\n",
        "aapl_table"
      ],
      "execution_count": 93,
      "outputs": [
        {
          "output_type": "stream",
          "name": "stdout",
          "text": [
            "{'zip': '95014', 'sector': 'Technology', 'fullTimeEmployees': 154000, 'longBusinessSummary': 'Apple Inc. designs, manufactures, and markets smartphones, personal computers, tablets, wearables, and accessories worldwide. It also sells various related services. In addition, the company offers iPhone, a line of smartphones; Mac, a line of personal computers; iPad, a line of multi-purpose tablets; AirPods Max, an over-ear wireless headphone; and wearables, home, and accessories comprising AirPods, Apple TV, Apple Watch, Beats products, HomePod, and iPod touch. Further, it provides AppleCare support services; cloud services store services; and operates various platforms, including the App Store that allow customers to discover and download applications and digital content, such as books, music, video, games, and podcasts. Additionally, the company offers various services, such as Apple Arcade, a game subscription service; Apple Music, which offers users a curated listening experience with on-demand radio stations; Apple News+, a subscription news and magazine service; Apple TV+, which offers exclusive original content; Apple Card, a co-branded credit card; and Apple Pay, a cashless payment service, as well as licenses its intellectual property. The company serves consumers, and small and mid-sized businesses; and the education, enterprise, and government markets. It distributes third-party applications for its products through the App Store. The company also sells its products through its retail and online stores, and direct sales force; and third-party cellular network carriers, wholesalers, retailers, and resellers. Apple Inc. was incorporated in 1977 and is headquartered in Cupertino, California.', 'city': 'Cupertino', 'phone': '408 996 1010', 'state': 'CA', 'country': 'United States', 'companyOfficers': [], 'website': 'https://www.apple.com', 'maxAge': 1, 'address1': 'One Apple Park Way', 'industry': 'Consumer Electronics', 'ebitdaMargins': 0.3343, 'profitMargins': 0.25709, 'grossMargins': 0.43313998, 'operatingCashflow': 118224003072, 'revenueGrowth': 0.019, 'operatingMargins': 0.30533, 'ebitda': 129556996096, 'targetLowPrice': 136, 'recommendationKey': 'buy', 'grossProfits': 152836000000, 'freeCashflow': 83344621568, 'targetMedianPrice': 185, 'currentPrice': 167.57, 'earningsGrowth': -0.077, 'currentRatio': 0.865, 'returnOnAssets': 0.22204, 'numberOfAnalystOpinions': 44, 'targetMeanPrice': 183.94, 'debtToEquity': 205.984, 'returnOnEquity': 1.62816, 'targetHighPrice': 220, 'totalCash': 48230998016, 'totalDebt': 119691001856, 'totalRevenue': 387541991424, 'totalCashPerShare': 3.001, 'financialCurrency': 'USD', 'revenuePerShare': 23.732, 'quickRatio': 0.697, 'recommendationMean': 1.9, 'exchange': 'NMS', 'shortName': 'Apple Inc.', 'longName': 'Apple Inc.', 'exchangeTimezoneName': 'America/New_York', 'exchangeTimezoneShortName': 'EDT', 'isEsgPopulated': False, 'gmtOffSetMilliseconds': '-14400000', 'quoteType': 'EQUITY', 'symbol': 'AAPL', 'messageBoardId': 'finmb_24937', 'market': 'us_market', 'annualHoldingsTurnover': None, 'enterpriseToRevenue': 7.297, 'beta3Year': None, 'enterpriseToEbitda': 21.828, '52WeekChange': 0.14568162, 'morningStarRiskRating': None, 'forwardEps': 6.44, 'revenueQuarterlyGrowth': None, 'sharesOutstanding': 16070800384, 'fundInceptionDate': None, 'annualReportExpenseRatio': None, 'totalAssets': None, 'bookValue': 3.61, 'sharesShort': 107535584, 'sharesPercentSharesOut': 0.0067000003, 'fundFamily': None, 'lastFiscalYearEnd': 1632528000, 'heldPercentInstitutions': 0.59714, 'netIncomeToCommon': 99632996352, 'trailingEps': 6.05, 'lastDividendValue': 0.23, 'SandP52WeekChange': -0.056043804, 'priceToBook': 46.418285, 'heldPercentInsiders': 0.0007, 'nextFiscalYearEnd': 1695600000, 'yield': None, 'mostRecentQuarter': 1656115200, 'shortRatio': 1.47, 'sharesShortPreviousMonthDate': 1656547200, 'floatShares': 16053234880, 'beta': 1.230174, 'enterpriseValue': 2827915362304, 'priceHint': 2, 'threeYearAverageReturn': None, 'lastSplitDate': 1598832000, 'lastSplitFactor': '4:1', 'legalType': None, 'lastDividendDate': 1659657600, 'morningStarOverallRating': None, 'earningsQuarterlyGrowth': -0.106, 'priceToSalesTrailing12Months': 6.9488835, 'dateShortInterest': 1659052800, 'pegRatio': 2.97, 'ytdReturn': None, 'forwardPE': 26.020187, 'lastCapGain': None, 'shortPercentOfFloat': 0.0067000003, 'sharesShortPriorMonth': 112994371, 'impliedSharesOutstanding': 0, 'category': None, 'fiveYearAverageReturn': None, 'previousClose': 171.52, 'regularMarketOpen': 169.69, 'twoHundredDayAverage': 160.461, 'trailingAnnualDividendYield': 0.005188899, 'payoutRatio': 0.1471, 'volume24Hr': None, 'regularMarketDayHigh': 169.86, 'navPrice': None, 'averageDailyVolume10Day': 64119090, 'regularMarketPreviousClose': 171.52, 'fiftyDayAverage': 151.3188, 'trailingAnnualDividendRate': 0.89, 'open': 169.69, 'toCurrency': None, 'averageVolume10days': 64119090, 'expireDate': None, 'algorithm': None, 'dividendRate': 0.92, 'exDividendDate': 1659657600, 'circulatingSupply': None, 'startDate': None, 'regularMarketDayLow': 167.135, 'currency': 'USD', 'trailingPE': 27.697521, 'regularMarketVolume': 65473371, 'lastMarket': None, 'maxSupply': None, 'openInterest': None, 'marketCap': 2692984078336, 'volumeAllCurrencies': None, 'strikePrice': None, 'averageVolume': 76763275, 'dayLow': 167.135, 'ask': 167.74, 'askSize': 800, 'volume': 65473371, 'fiftyTwoWeekHigh': 182.94, 'fromCurrency': None, 'fiveYearAvgDividendYield': 1.05, 'fiftyTwoWeekLow': 129.04, 'bid': 167.73, 'tradeable': False, 'dividendYield': 0.0054, 'bidSize': 900, 'dayHigh': 169.86, 'coinMarketCapLink': None, 'regularMarketPrice': 167.57, 'preMarketPrice': 169.71, 'logo_url': 'https://logo.clearbit.com/apple.com', 'trailingPegRatio': 3.1143}\n"
          ]
        },
        {
          "output_type": "execute_result",
          "data": {
            "text/plain": [
              "                  Open        High         Low       Close     Volume  \\\n",
              "Date                                                                    \n",
              "2021-01-04  132.155067  132.244143  125.464171  128.087082  143301900   \n",
              "2021-01-05  127.572362  130.393233  127.117058  129.670685   97664900   \n",
              "2021-01-06  126.414355  129.710315  125.088049  125.305801  155088000   \n",
              "2021-01-07  127.047822  130.284398  126.552933  129.581650  109578200   \n",
              "2021-01-08  131.076194  131.274161  128.898687  130.700089  105158200   \n",
              "...                ...         ...         ...         ...        ...   \n",
              "2021-12-23  175.125322  176.121201  174.547711  175.553543   68356600   \n",
              "2021-12-27  176.360215  179.676494  176.340308  179.586868   74919600   \n",
              "2021-12-28  179.417557  180.582734  177.794270  178.551132   79144300   \n",
              "2021-12-29  178.590981  179.885626  177.405882  178.640778   62348900   \n",
              "2021-12-30  178.730408  179.825881  177.356090  177.465637   59773000   \n",
              "\n",
              "            Dividends  Stock Splits  \n",
              "Date                                 \n",
              "2021-01-04        0.0             0  \n",
              "2021-01-05        0.0             0  \n",
              "2021-01-06        0.0             0  \n",
              "2021-01-07        0.0             0  \n",
              "2021-01-08        0.0             0  \n",
              "...               ...           ...  \n",
              "2021-12-23        0.0             0  \n",
              "2021-12-27        0.0             0  \n",
              "2021-12-28        0.0             0  \n",
              "2021-12-29        0.0             0  \n",
              "2021-12-30        0.0             0  \n",
              "\n",
              "[251 rows x 7 columns]"
            ],
            "text/html": [
              "\n",
              "  <div id=\"df-eb73a47b-679a-49ba-bf4d-a3401d5ccd8b\">\n",
              "    <div class=\"colab-df-container\">\n",
              "      <div>\n",
              "<style scoped>\n",
              "    .dataframe tbody tr th:only-of-type {\n",
              "        vertical-align: middle;\n",
              "    }\n",
              "\n",
              "    .dataframe tbody tr th {\n",
              "        vertical-align: top;\n",
              "    }\n",
              "\n",
              "    .dataframe thead th {\n",
              "        text-align: right;\n",
              "    }\n",
              "</style>\n",
              "<table border=\"1\" class=\"dataframe\">\n",
              "  <thead>\n",
              "    <tr style=\"text-align: right;\">\n",
              "      <th></th>\n",
              "      <th>Open</th>\n",
              "      <th>High</th>\n",
              "      <th>Low</th>\n",
              "      <th>Close</th>\n",
              "      <th>Volume</th>\n",
              "      <th>Dividends</th>\n",
              "      <th>Stock Splits</th>\n",
              "    </tr>\n",
              "    <tr>\n",
              "      <th>Date</th>\n",
              "      <th></th>\n",
              "      <th></th>\n",
              "      <th></th>\n",
              "      <th></th>\n",
              "      <th></th>\n",
              "      <th></th>\n",
              "      <th></th>\n",
              "    </tr>\n",
              "  </thead>\n",
              "  <tbody>\n",
              "    <tr>\n",
              "      <th>2021-01-04</th>\n",
              "      <td>132.155067</td>\n",
              "      <td>132.244143</td>\n",
              "      <td>125.464171</td>\n",
              "      <td>128.087082</td>\n",
              "      <td>143301900</td>\n",
              "      <td>0.0</td>\n",
              "      <td>0</td>\n",
              "    </tr>\n",
              "    <tr>\n",
              "      <th>2021-01-05</th>\n",
              "      <td>127.572362</td>\n",
              "      <td>130.393233</td>\n",
              "      <td>127.117058</td>\n",
              "      <td>129.670685</td>\n",
              "      <td>97664900</td>\n",
              "      <td>0.0</td>\n",
              "      <td>0</td>\n",
              "    </tr>\n",
              "    <tr>\n",
              "      <th>2021-01-06</th>\n",
              "      <td>126.414355</td>\n",
              "      <td>129.710315</td>\n",
              "      <td>125.088049</td>\n",
              "      <td>125.305801</td>\n",
              "      <td>155088000</td>\n",
              "      <td>0.0</td>\n",
              "      <td>0</td>\n",
              "    </tr>\n",
              "    <tr>\n",
              "      <th>2021-01-07</th>\n",
              "      <td>127.047822</td>\n",
              "      <td>130.284398</td>\n",
              "      <td>126.552933</td>\n",
              "      <td>129.581650</td>\n",
              "      <td>109578200</td>\n",
              "      <td>0.0</td>\n",
              "      <td>0</td>\n",
              "    </tr>\n",
              "    <tr>\n",
              "      <th>2021-01-08</th>\n",
              "      <td>131.076194</td>\n",
              "      <td>131.274161</td>\n",
              "      <td>128.898687</td>\n",
              "      <td>130.700089</td>\n",
              "      <td>105158200</td>\n",
              "      <td>0.0</td>\n",
              "      <td>0</td>\n",
              "    </tr>\n",
              "    <tr>\n",
              "      <th>...</th>\n",
              "      <td>...</td>\n",
              "      <td>...</td>\n",
              "      <td>...</td>\n",
              "      <td>...</td>\n",
              "      <td>...</td>\n",
              "      <td>...</td>\n",
              "      <td>...</td>\n",
              "    </tr>\n",
              "    <tr>\n",
              "      <th>2021-12-23</th>\n",
              "      <td>175.125322</td>\n",
              "      <td>176.121201</td>\n",
              "      <td>174.547711</td>\n",
              "      <td>175.553543</td>\n",
              "      <td>68356600</td>\n",
              "      <td>0.0</td>\n",
              "      <td>0</td>\n",
              "    </tr>\n",
              "    <tr>\n",
              "      <th>2021-12-27</th>\n",
              "      <td>176.360215</td>\n",
              "      <td>179.676494</td>\n",
              "      <td>176.340308</td>\n",
              "      <td>179.586868</td>\n",
              "      <td>74919600</td>\n",
              "      <td>0.0</td>\n",
              "      <td>0</td>\n",
              "    </tr>\n",
              "    <tr>\n",
              "      <th>2021-12-28</th>\n",
              "      <td>179.417557</td>\n",
              "      <td>180.582734</td>\n",
              "      <td>177.794270</td>\n",
              "      <td>178.551132</td>\n",
              "      <td>79144300</td>\n",
              "      <td>0.0</td>\n",
              "      <td>0</td>\n",
              "    </tr>\n",
              "    <tr>\n",
              "      <th>2021-12-29</th>\n",
              "      <td>178.590981</td>\n",
              "      <td>179.885626</td>\n",
              "      <td>177.405882</td>\n",
              "      <td>178.640778</td>\n",
              "      <td>62348900</td>\n",
              "      <td>0.0</td>\n",
              "      <td>0</td>\n",
              "    </tr>\n",
              "    <tr>\n",
              "      <th>2021-12-30</th>\n",
              "      <td>178.730408</td>\n",
              "      <td>179.825881</td>\n",
              "      <td>177.356090</td>\n",
              "      <td>177.465637</td>\n",
              "      <td>59773000</td>\n",
              "      <td>0.0</td>\n",
              "      <td>0</td>\n",
              "    </tr>\n",
              "  </tbody>\n",
              "</table>\n",
              "<p>251 rows × 7 columns</p>\n",
              "</div>\n",
              "      <button class=\"colab-df-convert\" onclick=\"convertToInteractive('df-eb73a47b-679a-49ba-bf4d-a3401d5ccd8b')\"\n",
              "              title=\"Convert this dataframe to an interactive table.\"\n",
              "              style=\"display:none;\">\n",
              "        \n",
              "  <svg xmlns=\"http://www.w3.org/2000/svg\" height=\"24px\"viewBox=\"0 0 24 24\"\n",
              "       width=\"24px\">\n",
              "    <path d=\"M0 0h24v24H0V0z\" fill=\"none\"/>\n",
              "    <path d=\"M18.56 5.44l.94 2.06.94-2.06 2.06-.94-2.06-.94-.94-2.06-.94 2.06-2.06.94zm-11 1L8.5 8.5l.94-2.06 2.06-.94-2.06-.94L8.5 2.5l-.94 2.06-2.06.94zm10 10l.94 2.06.94-2.06 2.06-.94-2.06-.94-.94-2.06-.94 2.06-2.06.94z\"/><path d=\"M17.41 7.96l-1.37-1.37c-.4-.4-.92-.59-1.43-.59-.52 0-1.04.2-1.43.59L10.3 9.45l-7.72 7.72c-.78.78-.78 2.05 0 2.83L4 21.41c.39.39.9.59 1.41.59.51 0 1.02-.2 1.41-.59l7.78-7.78 2.81-2.81c.8-.78.8-2.07 0-2.86zM5.41 20L4 18.59l7.72-7.72 1.47 1.35L5.41 20z\"/>\n",
              "  </svg>\n",
              "      </button>\n",
              "      \n",
              "  <style>\n",
              "    .colab-df-container {\n",
              "      display:flex;\n",
              "      flex-wrap:wrap;\n",
              "      gap: 12px;\n",
              "    }\n",
              "\n",
              "    .colab-df-convert {\n",
              "      background-color: #E8F0FE;\n",
              "      border: none;\n",
              "      border-radius: 50%;\n",
              "      cursor: pointer;\n",
              "      display: none;\n",
              "      fill: #1967D2;\n",
              "      height: 32px;\n",
              "      padding: 0 0 0 0;\n",
              "      width: 32px;\n",
              "    }\n",
              "\n",
              "    .colab-df-convert:hover {\n",
              "      background-color: #E2EBFA;\n",
              "      box-shadow: 0px 1px 2px rgba(60, 64, 67, 0.3), 0px 1px 3px 1px rgba(60, 64, 67, 0.15);\n",
              "      fill: #174EA6;\n",
              "    }\n",
              "\n",
              "    [theme=dark] .colab-df-convert {\n",
              "      background-color: #3B4455;\n",
              "      fill: #D2E3FC;\n",
              "    }\n",
              "\n",
              "    [theme=dark] .colab-df-convert:hover {\n",
              "      background-color: #434B5C;\n",
              "      box-shadow: 0px 1px 3px 1px rgba(0, 0, 0, 0.15);\n",
              "      filter: drop-shadow(0px 1px 2px rgba(0, 0, 0, 0.3));\n",
              "      fill: #FFFFFF;\n",
              "    }\n",
              "  </style>\n",
              "\n",
              "      <script>\n",
              "        const buttonEl =\n",
              "          document.querySelector('#df-eb73a47b-679a-49ba-bf4d-a3401d5ccd8b button.colab-df-convert');\n",
              "        buttonEl.style.display =\n",
              "          google.colab.kernel.accessAllowed ? 'block' : 'none';\n",
              "\n",
              "        async function convertToInteractive(key) {\n",
              "          const element = document.querySelector('#df-eb73a47b-679a-49ba-bf4d-a3401d5ccd8b');\n",
              "          const dataTable =\n",
              "            await google.colab.kernel.invokeFunction('convertToInteractive',\n",
              "                                                     [key], {});\n",
              "          if (!dataTable) return;\n",
              "\n",
              "          const docLinkHtml = 'Like what you see? Visit the ' +\n",
              "            '<a target=\"_blank\" href=https://colab.research.google.com/notebooks/data_table.ipynb>data table notebook</a>'\n",
              "            + ' to learn more about interactive tables.';\n",
              "          element.innerHTML = '';\n",
              "          dataTable['output_type'] = 'display_data';\n",
              "          await google.colab.output.renderOutput(dataTable, element);\n",
              "          const docLink = document.createElement('div');\n",
              "          docLink.innerHTML = docLinkHtml;\n",
              "          element.appendChild(docLink);\n",
              "        }\n",
              "      </script>\n",
              "    </div>\n",
              "  </div>\n",
              "  "
            ]
          },
          "metadata": {},
          "execution_count": 93
        }
      ]
    },
    {
      "cell_type": "markdown",
      "metadata": {
        "id": "NkFztSYhJyVA"
      },
      "source": [
        "We will create a Series named \"aapl\" whose values are Apple's daily closing prices, which are of course indexed by dates:"
      ]
    },
    {
      "cell_type": "code",
      "metadata": {
        "id": "QDJbOpCeHW91"
      },
      "source": [
        "aapl = aapl_table['Close']['2021']"
      ],
      "execution_count": 94,
      "outputs": []
    },
    {
      "cell_type": "code",
      "metadata": {
        "colab": {
          "base_uri": "https://localhost:8080/"
        },
        "id": "SXfgCQJOHW91",
        "outputId": "4732fd7e-a3df-4b6c-d3f3-c7008cf6abd2"
      },
      "source": [
        "print(aapl)"
      ],
      "execution_count": 95,
      "outputs": [
        {
          "output_type": "stream",
          "name": "stdout",
          "text": [
            "Date\n",
            "2021-01-04    128.087082\n",
            "2021-01-05    129.670685\n",
            "2021-01-06    125.305801\n",
            "2021-01-07    129.581650\n",
            "2021-01-08    130.700089\n",
            "                 ...    \n",
            "2021-12-23    175.553543\n",
            "2021-12-27    179.586868\n",
            "2021-12-28    178.551132\n",
            "2021-12-29    178.640778\n",
            "2021-12-30    177.465637\n",
            "Name: Close, Length: 251, dtype: float64\n"
          ]
        }
      ]
    },
    {
      "cell_type": "markdown",
      "metadata": {
        "id": "waUEgBhzKEcA"
      },
      "source": [
        "Recall that we can fetch a specific data point using series['yyyy-mm-dd']. We can also fetch the data in a specific month using series['yyyy-mm']."
      ]
    },
    {
      "cell_type": "code",
      "metadata": {
        "colab": {
          "base_uri": "https://localhost:8080/"
        },
        "id": "2gS50G0zHW92",
        "outputId": "b0584ec0-a73b-4dfb-c6f8-ed94eb8b757d"
      },
      "source": [
        "print(aapl['2021-8'])"
      ],
      "execution_count": 96,
      "outputs": [
        {
          "output_type": "stream",
          "name": "stdout",
          "text": [
            "Date\n",
            "2021-08-02    144.492630\n",
            "2021-08-03    146.319656\n",
            "2021-08-04    145.912537\n",
            "2021-08-05    146.021759\n",
            "2021-08-06    145.325653\n",
            "2021-08-09    145.275925\n",
            "2021-08-10    144.788666\n",
            "2021-08-11    145.047226\n",
            "2021-08-12    148.060333\n",
            "2021-08-13    148.269165\n",
            "2021-08-16    150.277908\n",
            "2021-08-17    149.353104\n",
            "2021-08-18    145.544434\n",
            "2021-08-19    145.882538\n",
            "2021-08-20    147.364227\n",
            "2021-08-23    148.875793\n",
            "2021-08-24    148.786255\n",
            "2021-08-25    147.533279\n",
            "2021-08-26    146.717865\n",
            "2021-08-27    147.771957\n",
            "2021-08-30    152.266739\n",
            "2021-08-31    150.983948\n",
            "Name: Close, dtype: float64\n"
          ]
        }
      ]
    },
    {
      "cell_type": "code",
      "metadata": {
        "colab": {
          "base_uri": "https://localhost:8080/"
        },
        "id": "vpvxGwXtHW92",
        "outputId": "030d8258-dc4a-409c-96b1-91777f6783bc"
      },
      "source": [
        "#We use the format yyyy-mm to obtain data in a specific range \n",
        "aapl['2021-2':'2021-4']"
      ],
      "execution_count": 97,
      "outputs": [
        {
          "output_type": "execute_result",
          "data": {
            "text/plain": [
              "Date\n",
              "2021-02-01    132.768723\n",
              "2021-02-02    133.610031\n",
              "2021-02-03    132.570770\n",
              "2021-02-04    135.985474\n",
              "2021-02-05    135.564194\n",
              "                 ...    \n",
              "2021-04-26    133.542053\n",
              "2021-04-27    133.214920\n",
              "2021-04-28    132.412003\n",
              "2021-04-29    132.312897\n",
              "2021-04-30    130.310547\n",
              "Name: Close, Length: 63, dtype: float64"
            ]
          },
          "metadata": {},
          "execution_count": 97
        }
      ]
    },
    {
      "cell_type": "markdown",
      "metadata": {
        "id": "lWwoD39pKNKb"
      },
      "source": [
        ".head(N) and .tail(N) are methods for quickly accessing the first or last N elements."
      ]
    },
    {
      "cell_type": "code",
      "metadata": {
        "colab": {
          "base_uri": "https://localhost:8080/"
        },
        "id": "1eU218ALHW93",
        "outputId": "2e8878d5-b9fe-4fc0-e8d3-13387e5a373a"
      },
      "source": [
        "# We obtain the first 7 data and the last 6 data by using the head and tail methods\n",
        "# print(aapl[:7])\n",
        "# print(aapl[-6:])\n",
        "print(aapl.head(7))\n",
        "print(aapl.tail(6))"
      ],
      "execution_count": 98,
      "outputs": [
        {
          "output_type": "stream",
          "name": "stdout",
          "text": [
            "Date\n",
            "2021-01-04    128.087082\n",
            "2021-01-05    129.670685\n",
            "2021-01-06    125.305801\n",
            "2021-01-07    129.581650\n",
            "2021-01-08    130.700089\n",
            "2021-01-11    127.661453\n",
            "2021-01-12    127.483307\n",
            "Name: Close, dtype: float64\n",
            "Date\n",
            "2021-12-22    174.916183\n",
            "2021-12-23    175.553543\n",
            "2021-12-27    179.586868\n",
            "2021-12-28    178.551132\n",
            "2021-12-29    178.640778\n",
            "2021-12-30    177.465637\n",
            "Name: Close, dtype: float64\n"
          ]
        }
      ]
    },
    {
      "cell_type": "markdown",
      "metadata": {
        "id": "IxhKxtj-KQ66"
      },
      "source": [
        "# Resampling\n",
        "**_series.resample(freq)_** is a class called \"DatetimeIndexResampler\" which groups data in a Series object into regular time intervals. The argument \"freq\" determines the length of each interval.\n",
        "\n",
        "**_series.resample.mean()_** is a complete statement that groups data into intervals, and then compute the mean of each interval. For example, if we want to aggregate the daily data into monthly data by mean:"
      ]
    },
    {
      "cell_type": "code",
      "metadata": {
        "colab": {
          "base_uri": "https://localhost:8080/"
        },
        "id": "rAV8NkHkHW93",
        "outputId": "f77a3b30-b6b7-45d8-d784-5615826c30de"
      },
      "source": [
        "#We reorganize the data in months, calculating and saving the mean of each month.\n",
        "by_month = aapl.resample('M').mean()\n",
        "print(by_month)"
      ],
      "execution_count": 99,
      "outputs": [
        {
          "output_type": "stream",
          "name": "stdout",
          "text": [
            "Date\n",
            "2021-01-31    131.676840\n",
            "2021-02-28    130.339429\n",
            "2021-03-31    120.805690\n",
            "2021-04-30    130.660323\n",
            "2021-05-31    125.845275\n",
            "2021-06-30    129.041125\n",
            "2021-07-31    144.114830\n",
            "2021-08-31    147.312345\n",
            "2021-09-30    147.479778\n",
            "2021-10-31    144.752678\n",
            "2021-11-30    153.578459\n",
            "2021-12-31    172.647003\n",
            "Freq: M, Name: Close, dtype: float64\n"
          ]
        }
      ]
    },
    {
      "cell_type": "markdown",
      "metadata": {
        "id": "QDPfVzBEKV6Q"
      },
      "source": [
        "We can also aggregate the data by week:"
      ]
    },
    {
      "cell_type": "code",
      "metadata": {
        "colab": {
          "base_uri": "https://localhost:8080/"
        },
        "id": "aAP3tKkBHW94",
        "outputId": "bf6f261a-b59f-475b-b161-9e9b61efa9cc"
      },
      "source": [
        "# if we use  freq = 'W' we'll obtain the data sumarized by week\n",
        "by_week = aapl.resample('W').mean()\n",
        "print(by_week.head())"
      ],
      "execution_count": 100,
      "outputs": [
        {
          "output_type": "stream",
          "name": "stdout",
          "text": [
            "Date\n",
            "2021-01-10    128.669061\n",
            "2021-01-17    127.625833\n",
            "2021-01-24    132.580658\n",
            "2021-01-31    138.012570\n",
            "2021-02-07    134.099838\n",
            "Freq: W-SUN, Name: Close, dtype: float64\n"
          ]
        }
      ]
    },
    {
      "cell_type": "markdown",
      "metadata": {
        "id": "o_MXSVsILoBS"
      },
      "source": [
        "We can also aggregate the data by month with max:"
      ]
    },
    {
      "cell_type": "code",
      "metadata": {
        "colab": {
          "base_uri": "https://localhost:8080/"
        },
        "id": "gn0wqXBTHW95",
        "outputId": "ea1c938a-f1b7-4518-bd9d-e2684db88838"
      },
      "source": [
        "#We obtain max data of each month \n",
        "aapl.resample('M').max()"
      ],
      "execution_count": 101,
      "outputs": [
        {
          "output_type": "execute_result",
          "data": {
            "text/plain": [
              "Date\n",
              "2021-01-31    141.696518\n",
              "2021-02-28    135.985474\n",
              "2021-03-31    126.672630\n",
              "2021-04-30    133.660995\n",
              "2021-05-31    131.381088\n",
              "2021-06-30    135.993073\n",
              "2021-07-31    148.097000\n",
              "2021-08-31    152.266739\n",
              "2021-09-30    155.816879\n",
              "2021-10-31    151.719833\n",
              "2021-11-30    164.618805\n",
              "2021-12-31    179.586868\n",
              "Freq: M, Name: Close, dtype: float64"
            ]
          },
          "metadata": {},
          "execution_count": 101
        }
      ]
    },
    {
      "cell_type": "markdown",
      "metadata": {
        "id": "Z8r46UFlLdAh"
      },
      "source": [
        "We can choose almost any frequency by using the format 'nf', where 'n' is an integer and 'f' is M for month, W for week and D for day."
      ]
    },
    {
      "cell_type": "code",
      "metadata": {
        "colab": {
          "base_uri": "https://localhost:8080/"
        },
        "id": "kdVB_-JFHW96",
        "outputId": "e14b8e51-af21-4912-b664-0f725ffb738e"
      },
      "source": [
        "# We can select frecuencies with an integer followed by \"W\", \"M\" or \"D\"\n",
        "three_day = aapl.resample('4D').mean()\n",
        "two_week = aapl.resample('2W').mean()\n",
        "two_month = aapl.resample('2M').mean()\n",
        "\n",
        "\n",
        "print(three_day)\n",
        "print(two_week)\n",
        "print(two_month )"
      ],
      "execution_count": 102,
      "outputs": [
        {
          "output_type": "stream",
          "name": "stdout",
          "text": [
            "Date\n",
            "2021-01-04    128.161304\n",
            "2021-01-08    129.180771\n",
            "2021-01-12    127.616928\n",
            "2021-01-16    126.523224\n",
            "2021-01-20    134.599803\n",
            "                 ...    \n",
            "2021-12-14    173.539379\n",
            "2021-12-18    170.663773\n",
            "2021-12-22    175.234863\n",
            "2021-12-26    178.926259\n",
            "2021-12-30    177.465637\n",
            "Freq: 4D, Name: Close, Length: 91, dtype: float64\n",
            "Date\n",
            "2021-01-10    128.669061\n",
            "2021-01-24    129.827977\n",
            "2021-02-07    136.056204\n",
            "2021-02-21    132.434040\n",
            "2021-03-07    122.517289\n",
            "2021-03-21    120.463404\n",
            "2021-04-04    120.521341\n",
            "2021-04-18    129.827808\n",
            "2021-05-02    132.366417\n",
            "2021-05-16    126.650613\n",
            "2021-05-30    125.039936\n",
            "2021-06-13    124.889782\n",
            "2021-06-27    130.970767\n",
            "2021-07-11    139.038081\n",
            "2021-07-25    145.318741\n",
            "2021-08-08    145.514258\n",
            "2021-08-22    146.986353\n",
            "2021-09-05    150.083000\n",
            "2021-09-19    149.870192\n",
            "2021-10-03    143.220454\n",
            "2021-10-17    141.434460\n",
            "2021-10-31    148.360654\n",
            "2021-11-14    149.268668\n",
            "2021-11-28    156.473612\n",
            "2021-12-12    167.457054\n",
            "2021-12-26    173.441174\n",
            "2022-01-09    178.561104\n",
            "Freq: 2W-SUN, Name: Close, dtype: float64\n",
            "Date\n",
            "2021-01-31    131.676840\n",
            "2021-03-31    125.118572\n",
            "2021-05-31    128.311519\n",
            "2021-07-31    136.402702\n",
            "2021-09-30    147.394115\n",
            "2021-11-30    149.165569\n",
            "2022-01-31    172.647003\n",
            "Freq: 2M, Name: Close, dtype: float64\n"
          ]
        }
      ]
    },
    {
      "cell_type": "markdown",
      "metadata": {
        "id": "iy4RqsnwL-Bw"
      },
      "source": [
        "Besides the mean() method, other methods can also be used with the resampler:\n",
        "\n"
      ]
    },
    {
      "cell_type": "code",
      "metadata": {
        "colab": {
          "base_uri": "https://localhost:8080/"
        },
        "id": "DNT8Fx9dHW96",
        "outputId": "34e34d86-a5f1-48c9-d5a2-acf2d13b2bc6"
      },
      "source": [
        "#We can aggregate the data using std, max or min\n",
        "std = aapl.resample('W').std()\n",
        "max = aapl.resample('W').max()\n",
        "min = aapl.resample('W').min()\n",
        "\n",
        "\n",
        "print(std)\n",
        "print(max)\n",
        "print(min)"
      ],
      "execution_count": 103,
      "outputs": [
        {
          "output_type": "stream",
          "name": "stdout",
          "text": [
            "Date\n",
            "2021-01-10    2.098294\n",
            "2021-01-17    1.315374\n",
            "2021-01-24    4.977887\n",
            "2021-01-31    4.805412\n",
            "2021-02-07    1.585070\n",
            "2021-02-14    0.713243\n",
            "2021-02-21    1.590622\n",
            "2021-02-28    2.517064\n",
            "2021-03-07    3.079017\n",
            "2021-03-14    2.177679\n",
            "2021-03-21    2.519356\n",
            "2021-03-28    1.360368\n",
            "2021-04-04    1.304575\n",
            "2021-04-11    2.970556\n",
            "2021-04-18    1.512193\n",
            "2021-04-25    1.113220\n",
            "2021-05-02    1.258303\n",
            "2021-05-09    1.892434\n",
            "2021-05-16    1.823230\n",
            "2021-05-23    1.079980\n",
            "2021-05-30    1.119368\n",
            "2021-06-06    1.004038\n",
            "2021-06-13    0.624552\n",
            "2021-06-20    0.789393\n",
            "2021-06-27    0.641696\n",
            "2021-07-04    1.870535\n",
            "2021-07-11    1.377539\n",
            "2021-07-18    1.931999\n",
            "2021-07-25    2.225637\n",
            "2021-08-01    1.547768\n",
            "2021-08-08    0.723525\n",
            "2021-08-15    1.723224\n",
            "2021-08-22    2.088033\n",
            "2021-08-29    0.905412\n",
            "2021-09-05    0.956703\n",
            "2021-09-12    3.319941\n",
            "2021-09-19    1.351200\n",
            "2021-09-26    1.878797\n",
            "2021-10-03    1.499646\n",
            "2021-10-10    1.646000\n",
            "2021-10-17    1.596806\n",
            "2021-10-24    1.158914\n",
            "2021-10-31    1.583678\n",
            "2021-11-07    1.084575\n",
            "2021-11-14    1.403882\n",
            "2021-11-21    4.493777\n",
            "2021-11-28    2.344026\n",
            "2021-12-05    2.100699\n",
            "2021-12-12    5.236363\n",
            "2021-12-19    3.184443\n",
            "2021-12-26    2.961060\n",
            "2022-01-02    0.867696\n",
            "Freq: W-SUN, Name: Close, dtype: float64\n",
            "Date\n",
            "2021-01-10    130.700089\n",
            "2021-01-17    129.551941\n",
            "2021-01-24    137.648315\n",
            "2021-01-31    141.696518\n",
            "2021-02-07    135.985474\n",
            "2021-02-14    135.712906\n",
            "2021-02-21    132.025421\n",
            "2021-02-28    124.898293\n",
            "2021-03-07    126.672630\n",
            "2021-03-14    120.893600\n",
            "2021-03-21    124.472046\n",
            "2021-03-28    122.311111\n",
            "2021-04-04    121.924522\n",
            "2021-04-11    131.837082\n",
            "2021-04-18    133.323959\n",
            "2021-04-25    133.660995\n",
            "2021-05-02    133.542053\n",
            "2021-05-09    131.381088\n",
            "2021-05-16    126.550201\n",
            "2021-05-23    126.411186\n",
            "2021-05-30    126.202667\n",
            "2021-06-06    125.001213\n",
            "2021-06-13    126.450905\n",
            "2021-06-20    130.859558\n",
            "2021-06-27    133.034088\n",
            "2021-07-04    138.971878\n",
            "2021-07-11    144.085510\n",
            "2021-07-18    148.097000\n",
            "2021-07-25    147.511139\n",
            "2021-08-01    147.938126\n",
            "2021-08-08    146.319656\n",
            "2021-08-15    148.269165\n",
            "2021-08-22    150.277908\n",
            "2021-08-29    148.875793\n",
            "2021-09-05    153.440186\n",
            "2021-09-12    155.816879\n",
            "2021-09-19    148.716660\n",
            "2021-09-26    146.101303\n",
            "2021-10-03    144.559952\n",
            "2021-10-10    142.491547\n",
            "2021-10-17    144.032898\n",
            "2021-10-24    148.647049\n",
            "2021-10-31    151.719833\n",
            "2021-11-07    150.656570\n",
            "2021-11-14    150.188507\n",
            "2021-11-21    159.888382\n",
            "2021-11-28    161.272644\n",
            "2021-12-05    164.618805\n",
            "2021-12-12    178.710495\n",
            "2021-12-19    178.561096\n",
            "2021-12-26    175.553543\n",
            "2022-01-02    179.586868\n",
            "Freq: W-SUN, Name: Close, dtype: float64\n",
            "Date\n",
            "2021-01-10    125.305801\n",
            "2021-01-17    125.840271\n",
            "2021-01-24    126.523224\n",
            "2021-01-31    130.611023\n",
            "2021-02-07    132.570770\n",
            "2021-02-14    133.948441\n",
            "2021-02-21    128.575836\n",
            "2021-02-28    119.932083\n",
            "2021-03-07    119.079613\n",
            "2021-03-14    115.342575\n",
            "2021-03-21    118.940834\n",
            "2021-03-28    119.039955\n",
            "2021-04-04    118.851624\n",
            "2021-04-11    124.799164\n",
            "2021-04-18    130.092484\n",
            "2021-04-25    130.786362\n",
            "2021-05-02    130.310547\n",
            "2021-05-09    126.732117\n",
            "2021-05-16    121.903236\n",
            "2021-05-23    123.809692\n",
            "2021-05-30    123.730247\n",
            "2021-06-06    122.667816\n",
            "2021-06-13    125.011139\n",
            "2021-06-20    128.724731\n",
            "2021-06-27    131.365952\n",
            "2021-07-04    133.828461\n",
            "2021-07-11    141.017334\n",
            "2021-07-18    143.479813\n",
            "2021-07-25    141.444290\n",
            "2021-08-01    143.956436\n",
            "2021-08-08    144.492630\n",
            "2021-08-15    144.788666\n",
            "2021-08-22    145.544434\n",
            "2021-08-29    146.717865\n",
            "2021-09-05    150.983948\n",
            "2021-09-12    148.139893\n",
            "2021-09-19    145.246094\n",
            "2021-09-26    142.143478\n",
            "2021-10-03    140.711517\n",
            "2021-10-10    138.364670\n",
            "2021-10-17    140.124786\n",
            "2021-10-24    145.733368\n",
            "2021-10-31    147.811737\n",
            "2021-11-07    148.129959\n",
            "2021-11-14    147.260620\n",
            "2021-11-21    149.381836\n",
            "2021-11-28    156.163788\n",
            "2021-12-05    159.579651\n",
            "2021-12-12    164.638733\n",
            "2021-12-19    170.434738\n",
            "2021-12-26    169.050446\n",
            "2022-01-02    177.465637\n",
            "Freq: W-SUN, Name: Close, dtype: float64\n"
          ]
        }
      ]
    },
    {
      "cell_type": "markdown",
      "metadata": {
        "id": "uqln0s5DMI3I"
      },
      "source": [
        "Often we want to calculate monthly returns of a stock, based on prices on the last day of each month. To fetch those prices, we use the series.resample.agg() method:"
      ]
    },
    {
      "cell_type": "code",
      "metadata": {
        "colab": {
          "base_uri": "https://localhost:8080/"
        },
        "id": "A6FSYvqbHW97",
        "outputId": "e5799747-fce8-4c49-8a17-13c72d9ad7a0"
      },
      "source": [
        "# We obtain the Closed data of each month using an anonymous function\n",
        "last_day = aapl.resample('M').agg(lambda x: x[-1])\n",
        "print(last_day)"
      ],
      "execution_count": 104,
      "outputs": [
        {
          "output_type": "stream",
          "name": "stdout",
          "text": [
            "Date\n",
            "2021-01-31    130.611023\n",
            "2021-02-28    120.199745\n",
            "2021-03-31    121.081955\n",
            "2021-04-30    130.310547\n",
            "2021-05-31    123.730247\n",
            "2021-06-30    135.993073\n",
            "2021-07-31    144.830215\n",
            "2021-08-31    150.983948\n",
            "2021-09-30    140.711517\n",
            "2021-10-31    148.965256\n",
            "2021-11-30    164.618805\n",
            "2021-12-31    177.465637\n",
            "Freq: M, Name: Close, dtype: float64\n"
          ]
        }
      ]
    },
    {
      "cell_type": "markdown",
      "metadata": {
        "id": "uwomY3aXMR46"
      },
      "source": [
        "Or directly calculate the monthly rates of return using the data for the first day and the last day:"
      ]
    },
    {
      "cell_type": "code",
      "metadata": {
        "colab": {
          "base_uri": "https://localhost:8080/"
        },
        "id": "qK2NMJrNHW96",
        "outputId": "295d4582-8257-4779-eb59-f853bb5f51e5"
      },
      "source": [
        "#We calculate the return rate using an anonymous function\n",
        "monthly_return = aapl.resample('M').agg(lambda x: x[-1]/x[0] - 1)\n",
        "print(monthly_return)"
      ],
      "execution_count": 105,
      "outputs": [
        {
          "output_type": "stream",
          "name": "stdout",
          "text": [
            "Date\n",
            "2021-01-31    0.019705\n",
            "2021-02-28   -0.094668\n",
            "2021-03-31   -0.044135\n",
            "2021-04-30    0.068780\n",
            "2021-05-31   -0.058234\n",
            "2021-06-30    0.102028\n",
            "2021-07-31    0.062577\n",
            "2021-08-31    0.044925\n",
            "2021-09-30   -0.072192\n",
            "2021-10-31    0.050123\n",
            "2021-11-30    0.111313\n",
            "2021-12-31    0.081508\n",
            "Freq: M, Name: Close, dtype: float64\n"
          ]
        }
      ]
    },
    {
      "cell_type": "markdown",
      "metadata": {
        "id": "_DYbMTFWMj8J"
      },
      "source": [
        "Series object also provides us some convenient methods to do some quick calculation."
      ]
    },
    {
      "cell_type": "code",
      "metadata": {
        "colab": {
          "base_uri": "https://localhost:8080/"
        },
        "id": "1Mxc0HwvHW98",
        "outputId": "24ed4f8c-df27-4c1a-e33d-73aea218eaaa"
      },
      "source": [
        "print(monthly_return.mean())\n",
        "print(monthly_return.std())\n",
        "print(monthly_return.max())"
      ],
      "execution_count": 106,
      "outputs": [
        {
          "output_type": "stream",
          "name": "stdout",
          "text": [
            "0.02264415568771186\n",
            "0.07158531795712104\n",
            "0.11131337593461788\n"
          ]
        }
      ]
    },
    {
      "cell_type": "markdown",
      "metadata": {
        "id": "mn59J5dqMpqX"
      },
      "source": [
        "Another two methods frequently used on Series are .diff() and .pct_change(). The former calculates the difference between consecutive elements, and the latter calculates the percentage change."
      ]
    },
    {
      "cell_type": "code",
      "metadata": {
        "colab": {
          "base_uri": "https://localhost:8080/"
        },
        "id": "DupZTSqqHW99",
        "outputId": "fada6c10-d394-4e98-9b9e-5a045a95a77c"
      },
      "source": [
        "#.diff() calculates the difference between some elements x_i and x_(i-1)\n",
        "print(last_day.diff())\n",
        "#pct_change() calculates percentage change |x_i - x_(i-1)| / |x_i|\n",
        "print(last_day.pct_change())"
      ],
      "execution_count": 107,
      "outputs": [
        {
          "output_type": "stream",
          "name": "stdout",
          "text": [
            "Date\n",
            "2021-01-31          NaN\n",
            "2021-02-28   -10.411278\n",
            "2021-03-31     0.882210\n",
            "2021-04-30     9.228592\n",
            "2021-05-31    -6.580299\n",
            "2021-06-30    12.262825\n",
            "2021-07-31     8.837143\n",
            "2021-08-31     6.153732\n",
            "2021-09-30   -10.272430\n",
            "2021-10-31     8.253738\n",
            "2021-11-30    15.653549\n",
            "2021-12-31    12.846832\n",
            "Freq: M, Name: Close, dtype: float64\n",
            "Date\n",
            "2021-01-31         NaN\n",
            "2021-02-28   -0.079712\n",
            "2021-03-31    0.007340\n",
            "2021-04-30    0.076218\n",
            "2021-05-31   -0.050497\n",
            "2021-06-30    0.099109\n",
            "2021-07-31    0.064982\n",
            "2021-08-31    0.042489\n",
            "2021-09-30   -0.068037\n",
            "2021-10-31    0.058657\n",
            "2021-11-30    0.105082\n",
            "2021-12-31    0.078040\n",
            "Freq: M, Name: Close, dtype: float64\n"
          ]
        }
      ]
    },
    {
      "cell_type": "markdown",
      "metadata": {
        "id": "RaMAOFepM6Io"
      },
      "source": [
        "Notice that we induced a NaN value while calculating percentage changes i.e. returns.\n",
        "\n",
        "When dealing with NaN values, we usually either removing the data point or fill it with a specific value. Here we fill it with 0:"
      ]
    },
    {
      "cell_type": "code",
      "metadata": {
        "colab": {
          "base_uri": "https://localhost:8080/"
        },
        "id": "-xyLb3A3HW99",
        "outputId": "167c7c81-5c10-450b-dd6a-46849343a388"
      },
      "source": [
        "# We can change all NaN values to some value with fillna(value)\n",
        "daily_return = last_day.pct_change()\n",
        "print(daily_return.fillna(0))"
      ],
      "execution_count": 108,
      "outputs": [
        {
          "output_type": "stream",
          "name": "stdout",
          "text": [
            "Date\n",
            "2021-01-31    0.000000\n",
            "2021-02-28   -0.079712\n",
            "2021-03-31    0.007340\n",
            "2021-04-30    0.076218\n",
            "2021-05-31   -0.050497\n",
            "2021-06-30    0.099109\n",
            "2021-07-31    0.064982\n",
            "2021-08-31    0.042489\n",
            "2021-09-30   -0.068037\n",
            "2021-10-31    0.058657\n",
            "2021-11-30    0.105082\n",
            "2021-12-31    0.078040\n",
            "Freq: M, Name: Close, dtype: float64\n"
          ]
        }
      ]
    },
    {
      "cell_type": "markdown",
      "metadata": {
        "id": "BYS10Om1NQVC"
      },
      "source": [
        "Alternatively, we can fill a NaN with the next fitted value. This is called 'backward fill', or 'bfill' in short:"
      ]
    },
    {
      "cell_type": "code",
      "metadata": {
        "colab": {
          "base_uri": "https://localhost:8080/"
        },
        "id": "J513kHeKHW9-",
        "outputId": "dbb89322-d595-4239-d404-f44013a29746"
      },
      "source": [
        "# We can use bfill to fill NaN values with the next valid value\n",
        "daily_return = last_day.pct_change()\n",
        "print(daily_return.fillna(method = 'bfill'))"
      ],
      "execution_count": 109,
      "outputs": [
        {
          "output_type": "stream",
          "name": "stdout",
          "text": [
            "Date\n",
            "2021-01-31   -0.079712\n",
            "2021-02-28   -0.079712\n",
            "2021-03-31    0.007340\n",
            "2021-04-30    0.076218\n",
            "2021-05-31   -0.050497\n",
            "2021-06-30    0.099109\n",
            "2021-07-31    0.064982\n",
            "2021-08-31    0.042489\n",
            "2021-09-30   -0.068037\n",
            "2021-10-31    0.058657\n",
            "2021-11-30    0.105082\n",
            "2021-12-31    0.078040\n",
            "Freq: M, Name: Close, dtype: float64\n"
          ]
        }
      ]
    },
    {
      "cell_type": "markdown",
      "metadata": {
        "id": "bj8QUSgdNepf"
      },
      "source": [
        "As expected, since there is a 'backward fill' method, there must be a 'forward fill' method, or 'ffill' in short. However we can't use it here because the NaN is the first value.\n",
        "\n",
        "We can also simply remove NaN values by **_.dropna()_**"
      ]
    },
    {
      "cell_type": "code",
      "metadata": {
        "colab": {
          "base_uri": "https://localhost:8080/"
        },
        "id": "WG5ux1lqHW9-",
        "outputId": "52ac74a3-20ac-4120-f5e7-2162be03bb87"
      },
      "source": [
        "#We can remove NaN with dropna()\n",
        "daily_return = last_day.pct_change()\n",
        "daily_return.dropna()"
      ],
      "execution_count": 110,
      "outputs": [
        {
          "output_type": "execute_result",
          "data": {
            "text/plain": [
              "Date\n",
              "2021-02-28   -0.079712\n",
              "2021-03-31    0.007340\n",
              "2021-04-30    0.076218\n",
              "2021-05-31   -0.050497\n",
              "2021-06-30    0.099109\n",
              "2021-07-31    0.064982\n",
              "2021-08-31    0.042489\n",
              "2021-09-30   -0.068037\n",
              "2021-10-31    0.058657\n",
              "2021-11-30    0.105082\n",
              "2021-12-31    0.078040\n",
              "Freq: M, Name: Close, dtype: float64"
            ]
          },
          "metadata": {},
          "execution_count": 110
        }
      ]
    },
    {
      "cell_type": "markdown",
      "metadata": {
        "id": "nQH2eBWkNjdC"
      },
      "source": [
        "# DataFrame\n",
        "The **DataFrame** is the most commonly used data structure in Pandas. It is essentially a table, just like an Excel spreadsheet.\n",
        "\n",
        "More precisely, a DataFrame is a collection of Series objects, each of which may contain different data types. A DataFrame can be created from various data types: dictionary, 2-D numpy.ndarray, a Series or another DataFrame.\n",
        "\n",
        "## Create DataFrames\n",
        "The most common method of creating a DataFrame is passing a dictionary:"
      ]
    },
    {
      "cell_type": "code",
      "metadata": {
        "colab": {
          "base_uri": "https://localhost:8080/"
        },
        "id": "vd5Wf1ohHW9-",
        "outputId": "9a5e02da-02c3-43fc-f42a-9fd0867e71ff"
      },
      "source": [
        "import pandas as pd\n",
        "# We can create a Dataframe passing a dictionary and a data index. \n",
        "dict = {'Nestle': [143.5, 144.09, 142.73, 144.18, 143.77],'Alpina':[898.7, 911.71, 906.69, 918.59, 926.99],\n",
        "        'Coca-Cola':[155.58, 153.67, 152.36, 152.94, 153.49]}\n",
        "data_index = pd.date_range('2021-08-21',periods = 5, freq = 'D')\n",
        "df = pd.DataFrame(dict, index = data_index)\n",
        "print(df)"
      ],
      "execution_count": 111,
      "outputs": [
        {
          "output_type": "stream",
          "name": "stdout",
          "text": [
            "            Nestle  Alpina  Coca-Cola\n",
            "2021-08-21  143.50  898.70     155.58\n",
            "2021-08-22  144.09  911.71     153.67\n",
            "2021-08-23  142.73  906.69     152.36\n",
            "2021-08-24  144.18  918.59     152.94\n",
            "2021-08-25  143.77  926.99     153.49\n"
          ]
        }
      ]
    },
    {
      "cell_type": "markdown",
      "metadata": {
        "id": "0uYmLQTgOPnX"
      },
      "source": [
        "## Manipulating DataFrames\n",
        "We can fetch values in a DataFrame by columns and index. Each column in a DataFrame is essentially a Pandas Series. We can fetch a column by square brackets: **df['column_name']**\n",
        "\n",
        "If a column name contains no spaces, then we can also use df.column_name to fetch a column:"
      ]
    },
    {
      "cell_type": "code",
      "metadata": {
        "colab": {
          "base_uri": "https://localhost:8080/"
        },
        "id": "2pB2f7lBHW9_",
        "outputId": "fb498b8d-557e-4a49-aa61-fe1f3fd5a910"
      },
      "source": [
        "# We can obtain columns with df['column_name']\n",
        "df = aapl_table\n",
        "print(df.Close.tail(5))\n",
        "print(df['Volume'].tail(5))"
      ],
      "execution_count": 112,
      "outputs": [
        {
          "output_type": "stream",
          "name": "stdout",
          "text": [
            "Date\n",
            "2021-12-23    175.553543\n",
            "2021-12-27    179.586868\n",
            "2021-12-28    178.551132\n",
            "2021-12-29    178.640778\n",
            "2021-12-30    177.465637\n",
            "Name: Close, dtype: float64\n",
            "Date\n",
            "2021-12-23    68356600\n",
            "2021-12-27    74919600\n",
            "2021-12-28    79144300\n",
            "2021-12-29    62348900\n",
            "2021-12-30    59773000\n",
            "Name: Volume, dtype: int64\n"
          ]
        }
      ]
    },
    {
      "cell_type": "markdown",
      "metadata": {
        "id": "z0ugOel9O4-P"
      },
      "source": [
        "All the methods we applied to a Series index such as iloc[], loc[] and resampling methods, can also be applied to a DataFrame:"
      ]
    },
    {
      "cell_type": "code",
      "metadata": {
        "colab": {
          "base_uri": "https://localhost:8080/"
        },
        "id": "_8dfjkedHW9_",
        "outputId": "61abdca6-5160-4dee-b51e-5087d9f3e87d"
      },
      "source": [
        "# We can use Series methods with DataFrames\n",
        "aapl_2021 = df['2021']\n",
        "# Here we aggregate the data by month and using the last day info\n",
        "aapl_month = aapl_2021.resample('M').agg(lambda x: x[-1])\n",
        "print(aapl_month)"
      ],
      "execution_count": 113,
      "outputs": [
        {
          "output_type": "stream",
          "name": "stdout",
          "text": [
            "                  Open        High         Low       Close     Volume  \\\n",
            "Date                                                                    \n",
            "2021-01-31  134.441456  135.342157  128.878913  130.611023  177523800   \n",
            "2021-02-28  121.518110  123.758352  120.140265  120.199745  164560400   \n",
            "2021-03-31  120.586327  122.439971  120.090699  121.081955  118323800   \n",
            "2021-04-30  130.627741  132.392176  129.923958  130.310547  109839500   \n",
            "2021-05-31  124.683469  124.911848  123.670674  123.730247   71311100   \n",
            "2021-06-30  135.208641  136.439892  134.910756  135.993073   63261400   \n",
            "2021-07-31  143.360669  145.296898  143.092571  144.830215   70440600   \n",
            "2021-08-31  151.809325  151.948544  150.446948  150.983948   86453100   \n",
            "2021-09-30  142.859485  143.575474  140.492742  140.711517   89056700   \n",
            "2021-10-31  146.399631  149.104475  145.594147  148.965256  124953200   \n",
            "2021-11-30  159.330690  164.837900  159.260971  164.618805  174048100   \n",
            "2021-12-31  178.730408  179.825881  177.356090  177.465637   59773000   \n",
            "\n",
            "            Dividends  Stock Splits  \n",
            "Date                                 \n",
            "2021-01-31        0.0             0  \n",
            "2021-02-28        0.0             0  \n",
            "2021-03-31        0.0             0  \n",
            "2021-04-30        0.0             0  \n",
            "2021-05-31        0.0             0  \n",
            "2021-06-30        0.0             0  \n",
            "2021-07-31        0.0             0  \n",
            "2021-08-31        0.0             0  \n",
            "2021-09-30        0.0             0  \n",
            "2021-10-31        0.0             0  \n",
            "2021-11-30        0.0             0  \n",
            "2021-12-31        0.0             0  \n"
          ]
        },
        {
          "output_type": "stream",
          "name": "stderr",
          "text": [
            "/usr/local/lib/python3.7/dist-packages/ipykernel_launcher.py:2: FutureWarning: Indexing a DataFrame with a datetimelike index using a single string to slice the rows, like `frame[string]`, is deprecated and will be removed in a future version. Use `frame.loc[string]` instead.\n",
            "  \n"
          ]
        }
      ]
    },
    {
      "cell_type": "markdown",
      "metadata": {
        "id": "CqrbrbFZPTJe"
      },
      "source": [
        "We may select certain columns of a DataFrame using their names:"
      ]
    },
    {
      "cell_type": "code",
      "metadata": {
        "colab": {
          "base_uri": "https://localhost:8080/"
        },
        "id": "7bQGeyCAHW9_",
        "outputId": "02e49bbc-964b-4084-86c8-db32563c682d"
      },
      "source": [
        "# We can select from DataFrames with column names inside squared brackets \n",
        "aapl_bar = aapl_month[['Open', 'High', 'Low', 'Close']]\n",
        "print(aapl_bar)"
      ],
      "execution_count": 114,
      "outputs": [
        {
          "output_type": "stream",
          "name": "stdout",
          "text": [
            "                  Open        High         Low       Close\n",
            "Date                                                      \n",
            "2021-01-31  134.441456  135.342157  128.878913  130.611023\n",
            "2021-02-28  121.518110  123.758352  120.140265  120.199745\n",
            "2021-03-31  120.586327  122.439971  120.090699  121.081955\n",
            "2021-04-30  130.627741  132.392176  129.923958  130.310547\n",
            "2021-05-31  124.683469  124.911848  123.670674  123.730247\n",
            "2021-06-30  135.208641  136.439892  134.910756  135.993073\n",
            "2021-07-31  143.360669  145.296898  143.092571  144.830215\n",
            "2021-08-31  151.809325  151.948544  150.446948  150.983948\n",
            "2021-09-30  142.859485  143.575474  140.492742  140.711517\n",
            "2021-10-31  146.399631  149.104475  145.594147  148.965256\n",
            "2021-11-30  159.330690  164.837900  159.260971  164.618805\n",
            "2021-12-31  178.730408  179.825881  177.356090  177.465637\n"
          ]
        }
      ]
    },
    {
      "cell_type": "markdown",
      "metadata": {
        "id": "8CQaZCAQP68O"
      },
      "source": [
        "We can even specify both rows and columns using loc[]. The row indices and column names are separated by a comma:"
      ]
    },
    {
      "cell_type": "code",
      "metadata": {
        "colab": {
          "base_uri": "https://localhost:8080/"
        },
        "id": "YjWWiHVpHW-A",
        "outputId": "cf87ae19-58c0-4afc-a127-112d1ba35810"
      },
      "source": [
        "# We can specify rows and columns using the loc[row_index,[columns]] method. \n",
        "print(aapl_month.loc['2021-03':'2021-06',['Open', 'High', 'Low', 'Close']])"
      ],
      "execution_count": 115,
      "outputs": [
        {
          "output_type": "stream",
          "name": "stdout",
          "text": [
            "                  Open        High         Low       Close\n",
            "Date                                                      \n",
            "2021-03-31  120.586327  122.439971  120.090699  121.081955\n",
            "2021-04-30  130.627741  132.392176  129.923958  130.310547\n",
            "2021-05-31  124.683469  124.911848  123.670674  123.730247\n",
            "2021-06-30  135.208641  136.439892  134.910756  135.993073\n"
          ]
        }
      ]
    },
    {
      "cell_type": "markdown",
      "metadata": {
        "id": "Xcn_pHNLQBEH"
      },
      "source": [
        "The subset methods in DataFrame is quite useful. By writing logical statements in square brackets, we can make customized subsets:"
      ]
    },
    {
      "cell_type": "code",
      "metadata": {
        "colab": {
          "base_uri": "https://localhost:8080/"
        },
        "id": "RxKg4dObHW-A",
        "outputId": "37565d51-5c61-4f3b-b1a1-31aba2dd2725"
      },
      "source": [
        "import numpy as np\n",
        "# We can get subsets by using boolean conditions as index\n",
        "above = aapl_bar[aapl_bar.Close > np.mean(aapl_bar.Close)]\n",
        "print(above)"
      ],
      "execution_count": 116,
      "outputs": [
        {
          "output_type": "stream",
          "name": "stdout",
          "text": [
            "                  Open        High         Low       Close\n",
            "Date                                                      \n",
            "2021-07-31  143.360669  145.296898  143.092571  144.830215\n",
            "2021-08-31  151.809325  151.948544  150.446948  150.983948\n",
            "2021-10-31  146.399631  149.104475  145.594147  148.965256\n",
            "2021-11-30  159.330690  164.837900  159.260971  164.618805\n",
            "2021-12-31  178.730408  179.825881  177.356090  177.465637\n"
          ]
        }
      ]
    },
    {
      "cell_type": "markdown",
      "metadata": {
        "id": "wcm_UadkQLL5"
      },
      "source": [
        "## Data Validation\n",
        "As mentioned, all methods that apply to a Series can also be applied to a DataFrame. Here we add a new column to an existing DataFrame:"
      ]
    },
    {
      "cell_type": "code",
      "metadata": {
        "colab": {
          "base_uri": "https://localhost:8080/"
        },
        "id": "jZXFdOVFHW-A",
        "outputId": "f1bc8b85-b5fb-4a78-fb12-18d5ec8a9c18"
      },
      "source": [
        "#We add a column by declarating its name in square brackets \n",
        "aapl_bar['rate_return'] = aapl_bar.Close.pct_change()\n",
        "print(aapl_bar)"
      ],
      "execution_count": 117,
      "outputs": [
        {
          "output_type": "stream",
          "name": "stdout",
          "text": [
            "                  Open        High         Low       Close  rate_return\n",
            "Date                                                                   \n",
            "2021-01-31  134.441456  135.342157  128.878913  130.611023          NaN\n",
            "2021-02-28  121.518110  123.758352  120.140265  120.199745    -0.079712\n",
            "2021-03-31  120.586327  122.439971  120.090699  121.081955     0.007340\n",
            "2021-04-30  130.627741  132.392176  129.923958  130.310547     0.076218\n",
            "2021-05-31  124.683469  124.911848  123.670674  123.730247    -0.050497\n",
            "2021-06-30  135.208641  136.439892  134.910756  135.993073     0.099109\n",
            "2021-07-31  143.360669  145.296898  143.092571  144.830215     0.064982\n",
            "2021-08-31  151.809325  151.948544  150.446948  150.983948     0.042489\n",
            "2021-09-30  142.859485  143.575474  140.492742  140.711517    -0.068037\n",
            "2021-10-31  146.399631  149.104475  145.594147  148.965256     0.058657\n",
            "2021-11-30  159.330690  164.837900  159.260971  164.618805     0.105082\n",
            "2021-12-31  178.730408  179.825881  177.356090  177.465637     0.078040\n"
          ]
        },
        {
          "output_type": "stream",
          "name": "stderr",
          "text": [
            "/usr/local/lib/python3.7/dist-packages/ipykernel_launcher.py:2: SettingWithCopyWarning: \n",
            "A value is trying to be set on a copy of a slice from a DataFrame.\n",
            "Try using .loc[row_indexer,col_indexer] = value instead\n",
            "\n",
            "See the caveats in the documentation: https://pandas.pydata.org/pandas-docs/stable/user_guide/indexing.html#returning-a-view-versus-a-copy\n",
            "  \n"
          ]
        }
      ]
    },
    {
      "cell_type": "markdown",
      "metadata": {
        "id": "_or6n5-LQUa-"
      },
      "source": [
        "Here the calculation introduced a NaN value. If the DataFrame is large, we would not be able to observe it. **isnull()** provides a convenient way to check abnormal values."
      ]
    },
    {
      "cell_type": "code",
      "metadata": {
        "colab": {
          "base_uri": "https://localhost:8080/"
        },
        "id": "V5wgmhIPHW-B",
        "outputId": "4764b48e-0757-4d02-fac2-b2720a7a4f90"
      },
      "source": [
        "#With .isnull() we get a boolean True if the value is abnormal\n",
        "missing = aapl_bar.isnull()\n",
        "print(missing)\n",
        "print('---------------------------------------------')\n",
        "print(missing.describe())"
      ],
      "execution_count": 118,
      "outputs": [
        {
          "output_type": "stream",
          "name": "stdout",
          "text": [
            "             Open   High    Low  Close  rate_return\n",
            "Date                                               \n",
            "2021-01-31  False  False  False  False         True\n",
            "2021-02-28  False  False  False  False        False\n",
            "2021-03-31  False  False  False  False        False\n",
            "2021-04-30  False  False  False  False        False\n",
            "2021-05-31  False  False  False  False        False\n",
            "2021-06-30  False  False  False  False        False\n",
            "2021-07-31  False  False  False  False        False\n",
            "2021-08-31  False  False  False  False        False\n",
            "2021-09-30  False  False  False  False        False\n",
            "2021-10-31  False  False  False  False        False\n",
            "2021-11-30  False  False  False  False        False\n",
            "2021-12-31  False  False  False  False        False\n",
            "---------------------------------------------\n",
            "         Open   High    Low  Close rate_return\n",
            "count      12     12     12     12          12\n",
            "unique      1      1      1      1           2\n",
            "top     False  False  False  False       False\n",
            "freq       12     12     12     12          11\n"
          ]
        }
      ]
    },
    {
      "cell_type": "markdown",
      "metadata": {
        "id": "d6KFV4i0QfLW"
      },
      "source": [
        "The row labelled \"unique\" indicates the number of unique values in each column. Since the \"rate_return\" column has 2 unique values, it has at least one missing value.\n",
        "\n",
        "We can deduce the number of missing values by comparing \"count\" with \"freq\". There are 12 counts and 11 False values, so there is one True value which corresponds to the missing value.\n",
        "\n",
        "We can also find the rows with missing values easily:"
      ]
    },
    {
      "cell_type": "code",
      "metadata": {
        "colab": {
          "base_uri": "https://localhost:8080/"
        },
        "id": "Eo0ZAhCsHW-B",
        "outputId": "220da8f9-c404-486a-caac-a8251a37f89d"
      },
      "source": [
        "# We can get missing values by checking the boolean values of missing.\n",
        "print(missing[missing.rate_return == True])"
      ],
      "execution_count": 119,
      "outputs": [
        {
          "output_type": "stream",
          "name": "stdout",
          "text": [
            "             Open   High    Low  Close  rate_return\n",
            "Date                                               \n",
            "2021-01-31  False  False  False  False         True\n"
          ]
        }
      ]
    },
    {
      "cell_type": "markdown",
      "metadata": {
        "id": "qgggpD8OQkZX"
      },
      "source": [
        "Usually when dealing with missing data, we either delete the whole row or fill it with some value. As we introduced in the Series chapter, the same method **dropna()** and **fillna()** can be applied to a DataFrame."
      ]
    },
    {
      "cell_type": "code",
      "metadata": {
        "colab": {
          "base_uri": "https://localhost:8080/"
        },
        "id": "j8PaIokjHW-B",
        "outputId": "bde02385-937e-4079-f565-e11bce8da5fc"
      },
      "source": [
        "# We can also use dropna() and fillna() to change NaN values\n",
        "drop = aapl_bar.dropna()\n",
        "print(drop)\n",
        "print('\\n--------------------------------------------------\\n')\n",
        "fill = aapl_bar.fillna(0)\n",
        "print(fill)"
      ],
      "execution_count": 120,
      "outputs": [
        {
          "output_type": "stream",
          "name": "stdout",
          "text": [
            "                  Open        High         Low       Close  rate_return\n",
            "Date                                                                   \n",
            "2021-02-28  121.518110  123.758352  120.140265  120.199745    -0.079712\n",
            "2021-03-31  120.586327  122.439971  120.090699  121.081955     0.007340\n",
            "2021-04-30  130.627741  132.392176  129.923958  130.310547     0.076218\n",
            "2021-05-31  124.683469  124.911848  123.670674  123.730247    -0.050497\n",
            "2021-06-30  135.208641  136.439892  134.910756  135.993073     0.099109\n",
            "2021-07-31  143.360669  145.296898  143.092571  144.830215     0.064982\n",
            "2021-08-31  151.809325  151.948544  150.446948  150.983948     0.042489\n",
            "2021-09-30  142.859485  143.575474  140.492742  140.711517    -0.068037\n",
            "2021-10-31  146.399631  149.104475  145.594147  148.965256     0.058657\n",
            "2021-11-30  159.330690  164.837900  159.260971  164.618805     0.105082\n",
            "2021-12-31  178.730408  179.825881  177.356090  177.465637     0.078040\n",
            "\n",
            "--------------------------------------------------\n",
            "\n",
            "                  Open        High         Low       Close  rate_return\n",
            "Date                                                                   \n",
            "2021-01-31  134.441456  135.342157  128.878913  130.611023     0.000000\n",
            "2021-02-28  121.518110  123.758352  120.140265  120.199745    -0.079712\n",
            "2021-03-31  120.586327  122.439971  120.090699  121.081955     0.007340\n",
            "2021-04-30  130.627741  132.392176  129.923958  130.310547     0.076218\n",
            "2021-05-31  124.683469  124.911848  123.670674  123.730247    -0.050497\n",
            "2021-06-30  135.208641  136.439892  134.910756  135.993073     0.099109\n",
            "2021-07-31  143.360669  145.296898  143.092571  144.830215     0.064982\n",
            "2021-08-31  151.809325  151.948544  150.446948  150.983948     0.042489\n",
            "2021-09-30  142.859485  143.575474  140.492742  140.711517    -0.068037\n",
            "2021-10-31  146.399631  149.104475  145.594147  148.965256     0.058657\n",
            "2021-11-30  159.330690  164.837900  159.260971  164.618805     0.105082\n",
            "2021-12-31  178.730408  179.825881  177.356090  177.465637     0.078040\n"
          ]
        }
      ]
    },
    {
      "cell_type": "markdown",
      "metadata": {
        "id": "0tvoFlKWQxYG"
      },
      "source": [
        "## DataFrame Concat\n",
        "We have seen how to extract a Series from a dataFrame. Now we need to consider how to merge a Series or a DataFrame into another one.\n",
        "\n",
        "In Pandas, the function **concat()** allows us to merge multiple Series into a DataFrame:"
      ]
    },
    {
      "cell_type": "code",
      "metadata": {
        "colab": {
          "base_uri": "https://localhost:8080/"
        },
        "id": "uQrmLIWKHW-C",
        "outputId": "b98984a6-dd59-43eb-90d1-77f95d4bc3a5"
      },
      "source": [
        "# We can merge series along an axis by using concat().\n",
        "s1 = pd.Series([143.5, 144.09, 142.73, 144.18, 143.77], name = 'AAPL')\n",
        "s2 = pd.Series([898.7, 911.71, 906.69, 918.59, 926.99], name = 'GOOG')\n",
        "data_frame = pd.concat([s1,s2], axis = 1)\n",
        "print(data_frame)"
      ],
      "execution_count": 121,
      "outputs": [
        {
          "output_type": "stream",
          "name": "stdout",
          "text": [
            "     AAPL    GOOG\n",
            "0  143.50  898.70\n",
            "1  144.09  911.71\n",
            "2  142.73  906.69\n",
            "3  144.18  918.59\n",
            "4  143.77  926.99\n"
          ]
        }
      ]
    },
    {
      "cell_type": "markdown",
      "metadata": {
        "id": "3ojbNYJLR2vv"
      },
      "source": [
        "The \"axis = 1\" parameter will join two DataFrames by columns:"
      ]
    },
    {
      "cell_type": "code",
      "metadata": {
        "colab": {
          "base_uri": "https://localhost:8080/"
        },
        "id": "DJsaLd-cRoIm",
        "outputId": "8eaa2f5d-98d1-4bd3-bcff-daa0bdf75ae0"
      },
      "source": [
        "# with axis = 1, we can merge horizontally\n",
        "log_price = np.log(aapl_bar.Close)\n",
        "log_price.name = 'log_price'\n",
        "print(log_price)\n",
        "print('\\n---------------------- separate line--------------------\\n')\n",
        "concat = pd.concat([aapl_bar, log_price], axis = 1)\n",
        "print(concat)"
      ],
      "execution_count": 122,
      "outputs": [
        {
          "output_type": "stream",
          "name": "stdout",
          "text": [
            "Date\n",
            "2021-01-31    4.872224\n",
            "2021-02-28    4.789155\n",
            "2021-03-31    4.796468\n",
            "2021-04-30    4.869920\n",
            "2021-05-31    4.818104\n",
            "2021-06-30    4.912604\n",
            "2021-07-31    4.975562\n",
            "2021-08-31    5.017174\n",
            "2021-09-30    4.946712\n",
            "2021-10-31    5.003713\n",
            "2021-11-30    5.103633\n",
            "2021-12-31    5.178777\n",
            "Freq: M, Name: log_price, dtype: float64\n",
            "\n",
            "---------------------- separate line--------------------\n",
            "\n",
            "                  Open        High         Low       Close  rate_return  \\\n",
            "Date                                                                      \n",
            "2021-01-31  134.441456  135.342157  128.878913  130.611023          NaN   \n",
            "2021-02-28  121.518110  123.758352  120.140265  120.199745    -0.079712   \n",
            "2021-03-31  120.586327  122.439971  120.090699  121.081955     0.007340   \n",
            "2021-04-30  130.627741  132.392176  129.923958  130.310547     0.076218   \n",
            "2021-05-31  124.683469  124.911848  123.670674  123.730247    -0.050497   \n",
            "2021-06-30  135.208641  136.439892  134.910756  135.993073     0.099109   \n",
            "2021-07-31  143.360669  145.296898  143.092571  144.830215     0.064982   \n",
            "2021-08-31  151.809325  151.948544  150.446948  150.983948     0.042489   \n",
            "2021-09-30  142.859485  143.575474  140.492742  140.711517    -0.068037   \n",
            "2021-10-31  146.399631  149.104475  145.594147  148.965256     0.058657   \n",
            "2021-11-30  159.330690  164.837900  159.260971  164.618805     0.105082   \n",
            "2021-12-31  178.730408  179.825881  177.356090  177.465637     0.078040   \n",
            "\n",
            "            log_price  \n",
            "Date                   \n",
            "2021-01-31   4.872224  \n",
            "2021-02-28   4.789155  \n",
            "2021-03-31   4.796468  \n",
            "2021-04-30   4.869920  \n",
            "2021-05-31   4.818104  \n",
            "2021-06-30   4.912604  \n",
            "2021-07-31   4.975562  \n",
            "2021-08-31   5.017174  \n",
            "2021-09-30   4.946712  \n",
            "2021-10-31   5.003713  \n",
            "2021-11-30   5.103633  \n",
            "2021-12-31   5.178777  \n"
          ]
        }
      ]
    },
    {
      "cell_type": "markdown",
      "metadata": {
        "id": "mIZz-FUyR_62"
      },
      "source": [
        "We can also join two DataFrames by rows. Consider these two DataFrames:"
      ]
    },
    {
      "cell_type": "code",
      "metadata": {
        "colab": {
          "base_uri": "https://localhost:8080/"
        },
        "id": "W7uXZptLHW-C",
        "outputId": "1f26f74e-65b5-4aaf-c600-ac4b8aab656c"
      },
      "source": [
        "df_volume = aapl_table.loc['2020-10':'2021-04',['Volume', 'Stock Splits']].resample('M').agg(lambda x: x[-1])\n",
        "print(df_volume)\n",
        "print('\\n---------------------- separate line--------------------\\n')\n",
        "df_2021 = aapl_table.loc['2020-10':'2021-04',['Open', 'High', 'Low', 'Close']].resample('M').agg(lambda x: x[-1])\n",
        "print(df_2021)"
      ],
      "execution_count": 123,
      "outputs": [
        {
          "output_type": "stream",
          "name": "stdout",
          "text": [
            "               Volume  Stock Splits\n",
            "Date                               \n",
            "2021-01-31  177523800             0\n",
            "2021-02-28  164560400             0\n",
            "2021-03-31  118323800             0\n",
            "2021-04-30  109839500             0\n",
            "\n",
            "---------------------- separate line--------------------\n",
            "\n",
            "                  Open        High         Low       Close\n",
            "Date                                                      \n",
            "2021-01-31  134.441456  135.342157  128.878913  130.611023\n",
            "2021-02-28  121.518110  123.758352  120.140265  120.199745\n",
            "2021-03-31  120.586327  122.439971  120.090699  121.081955\n",
            "2021-04-30  130.627741  132.392176  129.923958  130.310547\n"
          ]
        }
      ]
    },
    {
      "cell_type": "markdown",
      "metadata": {
        "id": "iZk_C9aSSLeP"
      },
      "source": [
        "Now we merge the DataFrames with our DataFrame 'aapl_bar'"
      ]
    },
    {
      "cell_type": "code",
      "metadata": {
        "colab": {
          "base_uri": "https://localhost:8080/"
        },
        "id": "aFqmjokOHW-C",
        "outputId": "7a9f06a1-52a6-4559-f02a-9fba5a7dcedf"
      },
      "source": [
        "concat = pd.concat([aapl_bar, df_volume], axis = 1)\n",
        "print(concat)"
      ],
      "execution_count": 124,
      "outputs": [
        {
          "output_type": "stream",
          "name": "stdout",
          "text": [
            "                  Open        High         Low       Close  rate_return  \\\n",
            "Date                                                                      \n",
            "2021-01-31  134.441456  135.342157  128.878913  130.611023          NaN   \n",
            "2021-02-28  121.518110  123.758352  120.140265  120.199745    -0.079712   \n",
            "2021-03-31  120.586327  122.439971  120.090699  121.081955     0.007340   \n",
            "2021-04-30  130.627741  132.392176  129.923958  130.310547     0.076218   \n",
            "2021-05-31  124.683469  124.911848  123.670674  123.730247    -0.050497   \n",
            "2021-06-30  135.208641  136.439892  134.910756  135.993073     0.099109   \n",
            "2021-07-31  143.360669  145.296898  143.092571  144.830215     0.064982   \n",
            "2021-08-31  151.809325  151.948544  150.446948  150.983948     0.042489   \n",
            "2021-09-30  142.859485  143.575474  140.492742  140.711517    -0.068037   \n",
            "2021-10-31  146.399631  149.104475  145.594147  148.965256     0.058657   \n",
            "2021-11-30  159.330690  164.837900  159.260971  164.618805     0.105082   \n",
            "2021-12-31  178.730408  179.825881  177.356090  177.465637     0.078040   \n",
            "\n",
            "                 Volume  Stock Splits  \n",
            "Date                                   \n",
            "2021-01-31  177523800.0           0.0  \n",
            "2021-02-28  164560400.0           0.0  \n",
            "2021-03-31  118323800.0           0.0  \n",
            "2021-04-30  109839500.0           0.0  \n",
            "2021-05-31          NaN           NaN  \n",
            "2021-06-30          NaN           NaN  \n",
            "2021-07-31          NaN           NaN  \n",
            "2021-08-31          NaN           NaN  \n",
            "2021-09-30          NaN           NaN  \n",
            "2021-10-31          NaN           NaN  \n",
            "2021-11-30          NaN           NaN  \n",
            "2021-12-31          NaN           NaN  \n"
          ]
        }
      ]
    },
    {
      "cell_type": "markdown",
      "metadata": {
        "id": "7yI3tgB4SR4O"
      },
      "source": [
        "By default the DataFrame are joined with all of the data. This default options results in zero information loss. We can also merge them by intersection, this is called 'inner join"
      ]
    },
    {
      "cell_type": "code",
      "metadata": {
        "colab": {
          "base_uri": "https://localhost:8080/"
        },
        "id": "31QGLyijHW-C",
        "outputId": "488577a2-447f-4830-a422-0023536a02aa"
      },
      "source": [
        "# We can intersect the Series by using join = 'inner' taking \n",
        "# This takes only data whose index is equal and whose info is not NaN\n",
        "concat = pd.concat([aapl_bar,df_volume],axis = 1, join = 'inner')\n",
        "print(concat)"
      ],
      "execution_count": 125,
      "outputs": [
        {
          "output_type": "stream",
          "name": "stdout",
          "text": [
            "                  Open        High         Low       Close  rate_return  \\\n",
            "Date                                                                      \n",
            "2021-01-31  134.441456  135.342157  128.878913  130.611023          NaN   \n",
            "2021-02-28  121.518110  123.758352  120.140265  120.199745    -0.079712   \n",
            "2021-03-31  120.586327  122.439971  120.090699  121.081955     0.007340   \n",
            "2021-04-30  130.627741  132.392176  129.923958  130.310547     0.076218   \n",
            "\n",
            "               Volume  Stock Splits  \n",
            "Date                                 \n",
            "2021-01-31  177523800             0  \n",
            "2021-02-28  164560400             0  \n",
            "2021-03-31  118323800             0  \n",
            "2021-04-30  109839500             0  \n"
          ]
        }
      ]
    },
    {
      "cell_type": "markdown",
      "metadata": {
        "id": "oudcWMm5Sd0u"
      },
      "source": [
        "Only the intersection part was left if use 'inner join' method. Now let's try to append a DataFrame to another one:"
      ]
    },
    {
      "cell_type": "code",
      "metadata": {
        "colab": {
          "base_uri": "https://localhost:8080/"
        },
        "id": "lgw0qaOsHW-D",
        "outputId": "11df0bec-7b37-4949-f526-597e6c6df4fd"
      },
      "source": [
        "# We use the method df_1.append(df_2) to append both DataFrames\n",
        "append = aapl_bar.append(df_2021)\n",
        "print(append)"
      ],
      "execution_count": 126,
      "outputs": [
        {
          "output_type": "stream",
          "name": "stdout",
          "text": [
            "                  Open        High         Low       Close  rate_return\n",
            "Date                                                                   \n",
            "2021-01-31  134.441456  135.342157  128.878913  130.611023          NaN\n",
            "2021-02-28  121.518110  123.758352  120.140265  120.199745    -0.079712\n",
            "2021-03-31  120.586327  122.439971  120.090699  121.081955     0.007340\n",
            "2021-04-30  130.627741  132.392176  129.923958  130.310547     0.076218\n",
            "2021-05-31  124.683469  124.911848  123.670674  123.730247    -0.050497\n",
            "2021-06-30  135.208641  136.439892  134.910756  135.993073     0.099109\n",
            "2021-07-31  143.360669  145.296898  143.092571  144.830215     0.064982\n",
            "2021-08-31  151.809325  151.948544  150.446948  150.983948     0.042489\n",
            "2021-09-30  142.859485  143.575474  140.492742  140.711517    -0.068037\n",
            "2021-10-31  146.399631  149.104475  145.594147  148.965256     0.058657\n",
            "2021-11-30  159.330690  164.837900  159.260971  164.618805     0.105082\n",
            "2021-12-31  178.730408  179.825881  177.356090  177.465637     0.078040\n",
            "2021-01-31  134.441456  135.342157  128.878913  130.611023          NaN\n",
            "2021-02-28  121.518110  123.758352  120.140265  120.199745          NaN\n",
            "2021-03-31  120.586327  122.439971  120.090699  121.081955          NaN\n",
            "2021-04-30  130.627741  132.392176  129.923958  130.310547          NaN\n"
          ]
        }
      ]
    },
    {
      "cell_type": "markdown",
      "metadata": {
        "id": "zXT6cMquSq_P"
      },
      "source": [
        "'Append' is essentially to concat two DataFrames by axis = 0, thus here is an alternative way to append:"
      ]
    },
    {
      "cell_type": "code",
      "metadata": {
        "colab": {
          "base_uri": "https://localhost:8080/"
        },
        "id": "2EuSaFO9HW-D",
        "outputId": "0fb1250c-0d65-4e6d-f9dc-ed45517fbf29"
      },
      "source": [
        "# Append is like concatenating two DF vertically\n",
        "concat = pd.concat([aapl_bar, df_2021], axis = 0)\n",
        "print(concat)"
      ],
      "execution_count": 127,
      "outputs": [
        {
          "output_type": "stream",
          "name": "stdout",
          "text": [
            "                  Open        High         Low       Close  rate_return\n",
            "Date                                                                   \n",
            "2021-01-31  134.441456  135.342157  128.878913  130.611023          NaN\n",
            "2021-02-28  121.518110  123.758352  120.140265  120.199745    -0.079712\n",
            "2021-03-31  120.586327  122.439971  120.090699  121.081955     0.007340\n",
            "2021-04-30  130.627741  132.392176  129.923958  130.310547     0.076218\n",
            "2021-05-31  124.683469  124.911848  123.670674  123.730247    -0.050497\n",
            "2021-06-30  135.208641  136.439892  134.910756  135.993073     0.099109\n",
            "2021-07-31  143.360669  145.296898  143.092571  144.830215     0.064982\n",
            "2021-08-31  151.809325  151.948544  150.446948  150.983948     0.042489\n",
            "2021-09-30  142.859485  143.575474  140.492742  140.711517    -0.068037\n",
            "2021-10-31  146.399631  149.104475  145.594147  148.965256     0.058657\n",
            "2021-11-30  159.330690  164.837900  159.260971  164.618805     0.105082\n",
            "2021-12-31  178.730408  179.825881  177.356090  177.465637     0.078040\n",
            "2021-01-31  134.441456  135.342157  128.878913  130.611023          NaN\n",
            "2021-02-28  121.518110  123.758352  120.140265  120.199745          NaN\n",
            "2021-03-31  120.586327  122.439971  120.090699  121.081955          NaN\n",
            "2021-04-30  130.627741  132.392176  129.923958  130.310547          NaN\n"
          ]
        }
      ]
    },
    {
      "cell_type": "markdown",
      "metadata": {
        "id": "-YXL7V9ASst9"
      },
      "source": [
        "Please note that if the two DataFrame have some columns with the same column names, these columns are considered to be the same and will be merged. It's very important to have the right column names. If we change a column names here:"
      ]
    },
    {
      "cell_type": "code",
      "metadata": {
        "colab": {
          "base_uri": "https://localhost:8080/"
        },
        "id": "aT1eoa8mHW-D",
        "outputId": "25c6333f-d57c-4c3b-debd-f48b2877455b"
      },
      "source": [
        "# Columns must have the same name, otherwise, they will be considered different columns\n",
        "# and will lead us to a lot of empty data\n",
        "df_2021.columns = ['Change', 'High','Low','Close']\n",
        "concat = pd.concat([aapl_bar, df_2021], axis = 0)\n",
        "print(concat)"
      ],
      "execution_count": 128,
      "outputs": [
        {
          "output_type": "stream",
          "name": "stdout",
          "text": [
            "                  Open        High         Low       Close  rate_return  \\\n",
            "Date                                                                      \n",
            "2021-01-31  134.441456  135.342157  128.878913  130.611023          NaN   \n",
            "2021-02-28  121.518110  123.758352  120.140265  120.199745    -0.079712   \n",
            "2021-03-31  120.586327  122.439971  120.090699  121.081955     0.007340   \n",
            "2021-04-30  130.627741  132.392176  129.923958  130.310547     0.076218   \n",
            "2021-05-31  124.683469  124.911848  123.670674  123.730247    -0.050497   \n",
            "2021-06-30  135.208641  136.439892  134.910756  135.993073     0.099109   \n",
            "2021-07-31  143.360669  145.296898  143.092571  144.830215     0.064982   \n",
            "2021-08-31  151.809325  151.948544  150.446948  150.983948     0.042489   \n",
            "2021-09-30  142.859485  143.575474  140.492742  140.711517    -0.068037   \n",
            "2021-10-31  146.399631  149.104475  145.594147  148.965256     0.058657   \n",
            "2021-11-30  159.330690  164.837900  159.260971  164.618805     0.105082   \n",
            "2021-12-31  178.730408  179.825881  177.356090  177.465637     0.078040   \n",
            "2021-01-31         NaN  135.342157  128.878913  130.611023          NaN   \n",
            "2021-02-28         NaN  123.758352  120.140265  120.199745          NaN   \n",
            "2021-03-31         NaN  122.439971  120.090699  121.081955          NaN   \n",
            "2021-04-30         NaN  132.392176  129.923958  130.310547          NaN   \n",
            "\n",
            "                Change  \n",
            "Date                    \n",
            "2021-01-31         NaN  \n",
            "2021-02-28         NaN  \n",
            "2021-03-31         NaN  \n",
            "2021-04-30         NaN  \n",
            "2021-05-31         NaN  \n",
            "2021-06-30         NaN  \n",
            "2021-07-31         NaN  \n",
            "2021-08-31         NaN  \n",
            "2021-09-30         NaN  \n",
            "2021-10-31         NaN  \n",
            "2021-11-30         NaN  \n",
            "2021-12-31         NaN  \n",
            "2021-01-31  134.441456  \n",
            "2021-02-28  121.518110  \n",
            "2021-03-31  120.586327  \n",
            "2021-04-30  130.627741  \n"
          ]
        }
      ]
    },
    {
      "cell_type": "markdown",
      "metadata": {
        "id": "shbpOFyyS6uV"
      },
      "source": [
        "Since the column name of 'Open' has been changed, the new DataFrame has an new column named 'Change'.\n",
        "\n",
        "# Summary\n",
        "\n",
        "Hereby we introduced the most import part of python: resampling and DataFrame manipulation. We only introduced the most commonly used method in Financial data analysis. There are also many methods used in data mining, which are also beneficial. You can always check the [Pandas](https://pandas.pydata.org/pandas-docs/stable/index.html) official documentations for help."
      ]
    }
  ]
}